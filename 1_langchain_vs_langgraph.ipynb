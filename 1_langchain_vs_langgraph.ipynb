{
 "cells": [
  {
   "cell_type": "code",
   "execution_count": 3,
   "id": "97f06add",
   "metadata": {},
   "outputs": [
    {
     "name": "stdout",
     "output_type": "stream",
     "text": [
      "Python 3.13.2\n"
     ]
    }
   ],
   "source": [
    "!python --version"
   ]
  },
  {
   "cell_type": "code",
   "execution_count": 11,
   "id": "7b76fdbe",
   "metadata": {},
   "outputs": [
    {
     "data": {
      "text/plain": [
       "True"
      ]
     },
     "execution_count": 11,
     "metadata": {},
     "output_type": "execute_result"
    }
   ],
   "source": [
    "from dotenv import load_dotenv\n",
    "load_dotenv()\n"
   ]
  },
  {
   "cell_type": "code",
   "execution_count": 19,
   "id": "72523213",
   "metadata": {},
   "outputs": [
    {
     "name": "stdout",
     "output_type": "stream",
     "text": [
      "When choosing a pitcher for latte art, the spout design is an important factor to consider. A sharper or more tapered spout generally provides better control over the milk flow, which is essential for creating detailed and intricate patterns. This is because a sharper spout allows you to more precisely control the stream of milk, making it easier to draw fine lines and complex designs.\n",
      "\n",
      "While rounded spouts can be used for latte art, they are often better suited for simpler designs, as they don't provide the same level of control. If your goal is to improve your latte art skills and create more intricate patterns, you might want to try a pitcher with a sharper spout.\n",
      "\n",
      "Additionally, other factors such as the size and shape of the pitcher, the handle, and your personal comfort with it also play roles in your success with latte art. Many baristas find that experimenting with different pitchers helps them find the one that best suits their style and technique.\n"
     ]
    }
   ],
   "source": [
    "import os\n",
    "from datetime import datetime\n",
    "from langchain_openai import ChatOpenAI\n",
    "\n",
    "query = \"Which pitcher is better for latte art? Mine has a rounded spout, but should the spout be sharper?\"\n",
    "\n",
    "llm = ChatOpenAI(model= 'gpt-4o')\n",
    "\n",
    "result = llm.invoke(query)\n",
    "\n",
    "print(result.content)\n",
    "\n",
    "save_dir = \"results\"\n",
    "\n",
    "os.makedirs(save_dir, exist_ok=True)\n",
    "\n",
    "filename = f\"{datetime.now().isoformat()}-result.md\"\n",
    "save_path = os.path.join(save_dir, filename)\n",
    "\n",
    "# save\n",
    "with open(save_path, \"a\", encoding=\"utf-8\") as f:\n",
    "    f.write(f\"**Questions** \\n {query}\\n\")\n",
    "    f.write(\"\\n\")\n",
    "    f.write(f\"**Answer** \\n {result.content}\\n\\n\")\n",
    "\n",
    "# 이게 랭체인으로 했던 방법임."
   ]
  },
  {
   "cell_type": "code",
   "execution_count": null,
   "id": "d3e41178",
   "metadata": {},
   "outputs": [],
   "source": [
    "# 랭그래프\n",
    "# State, Node, Edge, Conditional Edge"
   ]
  },
  {
   "cell_type": "code",
   "execution_count": 25,
   "id": "83a111d2",
   "metadata": {},
   "outputs": [
    {
     "name": "stdout",
     "output_type": "stream",
     "text": [
      "Name: langgraph\n",
      "Version: 0.2.60\n",
      "Summary: Building stateful, multi-actor applications with LLMs\n",
      "Home-page: https://www.github.com/langchain-ai/langgraph\n",
      "Author: \n",
      "Author-email: \n",
      "License: MIT\n",
      "Location: /Users/hyeyeonkim/MayLangChainLangGraphMCP/.venv/lib/python3.13/site-packages\n",
      "Requires: langchain-core, langgraph-checkpoint, langgraph-sdk\n",
      "Required-by: \n"
     ]
    }
   ],
   "source": [
    "!pip show langgraph\n"
   ]
  },
  {
   "cell_type": "code",
   "execution_count": 27,
   "id": "ef5fcfa2",
   "metadata": {},
   "outputs": [],
   "source": [
    "# State\n",
    "from typing import Annotated\n",
    "from typing_extensions import TypedDict\n",
    "\n",
    "from langgraph.graph.message import add_messages\n",
    "from langchain_core.messages import AnyMessage\n",
    "\n",
    "class AgentState(TypedDict):\n",
    "    messages: list[Annotated[AnyMessage, add_messages]]"
   ]
  },
  {
   "cell_type": "code",
   "execution_count": 28,
   "id": "95833722",
   "metadata": {},
   "outputs": [],
   "source": [
    "# Graph builder\n",
    "from langgraph.graph import StateGraph\n",
    "\n",
    "graph_builder = StateGraph(AgentState)"
   ]
  },
  {
   "cell_type": "code",
   "execution_count": 29,
   "id": "0080181c",
   "metadata": {},
   "outputs": [],
   "source": [
    "# Node\n",
    "\n",
    "def generate(state:AgentState) -> AgentState:\n",
    "    messages = state['messages']\n",
    "    ai_message = llm.invoke(messages)\n",
    "    return {'messages' : [ai_message]}"
   ]
  },
  {
   "cell_type": "code",
   "execution_count": 31,
   "id": "c7665057",
   "metadata": {},
   "outputs": [
    {
     "data": {
      "text/plain": [
       "<langgraph.graph.state.StateGraph at 0x11eb723c0>"
      ]
     },
     "execution_count": 31,
     "metadata": {},
     "output_type": "execute_result"
    }
   ],
   "source": [
    "from langgraph.graph import START, END\n",
    "# graph_builder.add_node('generate', generate) # <langgraph.graph.state.StateGraph at 0x11eb723c0>\n",
    "graph_builder.add_edge(START, 'generate')\n",
    "graph_builder.add_edge('generate', END)"
   ]
  },
  {
   "cell_type": "code",
   "execution_count": 32,
   "id": "f4874456",
   "metadata": {},
   "outputs": [],
   "source": [
    "# Edge\n",
    "\n",
    "graph = graph_builder.compile()"
   ]
  },
  {
   "cell_type": "code",
   "execution_count": 34,
   "id": "e1fe45a9",
   "metadata": {},
   "outputs": [
    {
     "data": {
      "image/png": "[encoded data removed]",
      "text/plain": [
       "<IPython.core.display.Image object>"
      ]
     },
     "metadata": {},
     "output_type": "display_data"
    }
   ],
   "source": [
    "# mermaid\n",
    "\n",
    "from IPython.display import display, Image\n",
    "\n",
    "display(Image(graph.get_graph().draw_mermaid_png()))\n"
   ]
  },
  {
   "cell_type": "code",
   "execution_count": 36,
   "id": "fadc555d",
   "metadata": {},
   "outputs": [
    {
     "data": {
      "text/plain": [
       "{'messages': [AIMessage(content=\"When it comes to latte art, the type of spout on your milk pitcher can significantly affect the precision and quality of your designs. Here's a comparison to help you decide:\\n\\n1. **Rounded Spout:**\\n   - **Advantages:** Rounded spouts are generally easier for beginners to use, as they allow for more forgiving pours. They enable a gentler flow of milk, which can be helpful when you're trying to create basic shapes like hearts or tulips.\\n   - **Disadvantages:** The rounded shape may not offer the precision needed for more intricate designs. If you pour without steady control, it can be difficult to achieve sharp lines.\\n\\n2. **Sharper Spout:**\\n   - **Advantages:** A sharper or more angular spout provides more control over the milk flow, allowing you to draw sharper and more defined lines. This precision is especially useful for creating detailed designs and more advanced latte art.\\n   - **Disadvantages:** Sharper spouts can be more challenging to master, particularly for beginners. They require a steadier hand and more experience to get the best results.\\n\\nIn conclusion, if you’re just starting with latte art, your rounded spout should work well as you learn the basic techniques. As you gain confidence and skill, you might want to experiment with a pitcher that has a sharper spout to create more complex designs. Ultimately, the best pitcher is a matter of personal preference and technique, so it can be helpful to try different spouts to see which works best for you.\", additional_kwargs={'refusal': None}, response_metadata={'token_usage': {'completion_tokens': 303, 'prompt_tokens': 30, 'total_tokens': 333, 'completion_tokens_details': {'accepted_prediction_tokens': 0, 'audio_tokens': 0, 'reasoning_tokens': 0, 'rejected_prediction_tokens': 0}, 'prompt_tokens_details': {'audio_tokens': 0, 'cached_tokens': 0}}, 'model_name': 'gpt-4o-2024-08-06', 'system_fingerprint': 'fp_80956533cb', 'id': 'chatcmpl-C5kOIdLbzixRVSZryEX2JuHWM8JHU', 'service_tier': 'default', 'finish_reason': 'stop', 'logprobs': None}, id='run--765ef13b-fa58-4fb8-a231-a4d4bafbca83-0', usage_metadata={'input_tokens': 30, 'output_tokens': 303, 'total_tokens': 333, 'input_token_details': {'audio': 0, 'cache_read': 0}, 'output_token_details': {'audio': 0, 'reasoning': 0}})]}"
      ]
     },
     "execution_count": 36,
     "metadata": {},
     "output_type": "execute_result"
    }
   ],
   "source": [
    "from langchain_core.messages import HumanMessage\n",
    "\n",
    "initial_state = {'messages': [HumanMessage(content=query)]}\n",
    "graph.invoke(initial_state)"
   ]
  }
 ],
 "metadata": {
  "language_info": {
   "name": "python"
  }
 },
 "nbformat": 4,
 "nbformat_minor": 5
}
