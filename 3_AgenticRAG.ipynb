{
 "cells": [
  {
   "cell_type": "markdown",
   "id": "a3dd2e82",
   "metadata": {},
   "source": [
    "![Agentic RAG](images/agenticRAG.png)\n",
    "\n",
    "![Agentic RAG](images/whitePaperVsPractice.png)\n",
    "\n",
    "The first image shows the flow from the official LangGraph documentation.\n",
    "If I follow the official documentation, rewrite will not work properly, so I plan to make a slight modification.\n"
   ]
  }
 ],
 "metadata": {
  "language_info": {
   "name": "python"
  }
 },
 "nbformat": 4,
 "nbformat_minor": 5
}
