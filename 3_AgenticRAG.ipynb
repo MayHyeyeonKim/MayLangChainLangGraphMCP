{
 "cells": [
  {
   "cell_type": "markdown",
   "id": "a3dd2e82",
   "metadata": {},
   "source": [
    "![Agentic RAG](images/agenticRAG.png)\n",
    "\n",
    "![Agentic RAG](images/whitePaperVsPractice.png)\n",
    "\n",
    "The first image shows the flow from the official LangGraph documentation.\n",
    "If I follow the official documentation, rewrite will not work properly, so I plan to make a slight modification.\n"
   ]
  },
  {
   "cell_type": "code",
   "execution_count": 44,
   "id": "50ce7c2e",
   "metadata": {},
   "outputs": [],
   "source": [
    "from langchain_chroma import Chroma\n",
    "from langchain_openai import OpenAIEmbeddings\n",
    "\n",
    "embedding_function = OpenAIEmbeddings(model='text-embedding-3-large')\n",
    "\n",
    "vector_store = Chroma(\n",
    "    embedding_function=embedding_function,\n",
    "    collection_name = 'income_tax_collection',\n",
    "    persist_directory = './income_tax_collection'\n",
    ")\n",
    "retriever = vector_store.as_retriever(search_kwargs={'k': 3})"
   ]
  },
  {
   "cell_type": "code",
   "execution_count": 45,
   "id": "3ace2800",
   "metadata": {},
   "outputs": [],
   "source": [
    "from typing_extensions import List, TypedDict\n",
    "from langchain_core.documents import Document\n",
    "from langgraph.graph import StateGraph\n",
    "\n",
    "class AgentState(TypedDict):\n",
    "    query: str\n",
    "    context: List[Document]\n",
    "    answer: str\n",
    "    \n",
    "graph_builder = StateGraph(AgentState)"
   ]
  },
  {
   "cell_type": "code",
   "execution_count": 46,
   "id": "9e92a484",
   "metadata": {},
   "outputs": [],
   "source": [
    "def retrieve(state: AgentState) -> AgentState:\n",
    "    \"\"\"\n",
    "    사용자의 질문에 기반하여 벡터 스토어에서 관련 문서를 검색\n",
    "\n",
    "    Args:\n",
    "        state (AgentState): 사용자의 질문을 포함한 에이전트의 현재 state.\n",
    "\n",
    "    Returns:\n",
    "        AgentState: 검색된 문서가 추가된 state를 반환\n",
    "    \"\"\"\n",
    "    query = state['query']  # state에서 사용자의 질문을 추출.\n",
    "    docs = retriever.invoke(query)  # 질문과 관련된 문서를 검색.\n",
    "    return {'context': docs}  # 검색된 문서를 포함한 state를 반환."
   ]
  },
  {
   "cell_type": "code",
   "execution_count": 47,
   "id": "6971c7a8",
   "metadata": {},
   "outputs": [],
   "source": [
    "from langchain_openai import ChatOpenAI\n",
    "\n",
    "llm = ChatOpenAI(model='gpt-4o')"
   ]
  },
  {
   "cell_type": "code",
   "execution_count": 48,
   "id": "b9e7dc90",
   "metadata": {},
   "outputs": [],
   "source": [
    "from langchain import hub\n",
    "\n",
    "# RAG 프롬프트를 가져오기\n",
    "generate_prompt = hub.pull(\"rlm/rag-prompt\")\n",
    "\n",
    "def generate(state: AgentState) -> AgentState:\n",
    "    \"\"\"\n",
    "    주어진 state를 기반으로 RAG 체인을 사용하여 응답을 생성\n",
    "\n",
    "    Args:\n",
    "        state (AgentState): 사용자의 질문과 문맥을 포함한 에이전트의 현재 state.\n",
    "\n",
    "    Returns:\n",
    "        AgentState: 생성된 응답을 포함하는 state를 반환\n",
    "    \"\"\"\n",
    "    context = state['context']  # state에서 문맥을 추출\n",
    "    query = state['query']      # state에서 사용자의 질문을 추출\n",
    "    \n",
    "    # RAG 체인을 구성\n",
    "    rag_chain = generate_prompt | llm\n",
    "    \n",
    "    # 질문과 문맥을 사용하여 응답을 생성\n",
    "    response = rag_chain.invoke({'question': query, 'context': context})\n",
    "    \n",
    "    return {'answer': response}  # 생성된 응답을 포함하는 state를 반환"
   ]
  },
  {
   "cell_type": "code",
   "execution_count": 49,
   "id": "50a496dd",
   "metadata": {},
   "outputs": [],
   "source": [
    "from langchain import hub\n",
    "from typing import Literal\n",
    "\n",
    "# 문서 관련성 판단을 위한 프롬프트를 가져옴.\n",
    "doc_relevance_prompt = hub.pull(\"langchain-ai/rag-document-relevance\")\n",
    "\n",
    "def check_doc_relevance(state: AgentState) -> Literal['generate', 'rewrite']:\n",
    "    \"\"\"\n",
    "    주어진 state를 기반으로 문서의 관련성을 판단\n",
    "\n",
    "    Args:\n",
    "        state (AgentState): 사용자의 질문과 문맥을 포함한 에이전트의 현재 state.\n",
    "\n",
    "    Returns:\n",
    "        Literal['generate', 'rewrite']: 문서가 관련성이 높으면 'generate', 그렇지 않으면 'rewrite'를 반환\n",
    "    \"\"\"\n",
    "    query = state['query']  # state에서 사용자의 질문을 추출\n",
    "    context = state['context']  # state에서 문맥을 추출\n",
    "\n",
    "    print(f'context == {context}')\n",
    "\n",
    "    # 문서 관련성 판단 체인을 구성\n",
    "    doc_relevance_chain = doc_relevance_prompt | llm\n",
    "\n",
    "    # 질문과 문맥을 사용하여 문서의 관련성을 판단\n",
    "    response = doc_relevance_chain.invoke({'question': query, 'documents': context})\n",
    "\n",
    "    print(f'response == {response}')\n",
    "\n",
    "    # 관련성이 높으면 'generate'를 반환하고, 그렇지 않으면 'rewrite'를 반환\n",
    "    # if response['Score'] == 1:\n",
    "    #     return 'generate'\n",
    "\n",
    "    # rewrite 횟수 세기\n",
    "    state['rewrite_count'] = state.get('rewrite_count', 0) + 1\n",
    "    \n",
    "    # 2번 이상 rewrite했는데도 Score가 0 → 그냥 generate로\n",
    "    if state['rewrite_count'] >= 2 or response['Score'] == 1:\n",
    "        return 'generate'\n",
    "    \n",
    "    return 'rewrite'\n"
   ]
  },
  {
   "cell_type": "code",
   "execution_count": 50,
   "id": "bde6c573",
   "metadata": {},
   "outputs": [],
   "source": [
    "query = \"한국에서 직장인이 부담하는 소득세율은 어떻게 되나요?\""
   ]
  },
  {
   "cell_type": "code",
   "execution_count": 51,
   "id": "9ee2c18b",
   "metadata": {},
   "outputs": [],
   "source": [
    "# rewrite 노드를 위한 코드\n",
    "\n",
    "# generate: 문서가 관련성이 높음 → 바로 답변 생성 단계로 넘어감.\n",
    "# rewrite: 문서가 관련성이 낮음 → 그냥 실패로 끝나는 게 아니라, 쿼리를 다시 써서(rewrite) 검색이 잘 되도록 해야 함.\n",
    "\n",
    "\n",
    "from langchain_core.prompts import PromptTemplate\n",
    "from langchain_core.output_parsers import StrOutputParser\n",
    "\n",
    "# 사전 정의: 특정 표현을 다른 표현으로 변환하기 위한 사전\n",
    "dictionary = ['사람과 관련된 표현 -> 거주자']\n",
    "\n",
    "# 프롬프트 템플릿을 생성. 사용자의 질문을 사전을 참고하여 변경.\n",
    "rewrite_prompt = PromptTemplate.from_template(f\"\"\"\n",
    "사용자의 질문을 보고, 우리의 사전을 참고해서 사용자의 질문을 변경해주세요 \n",
    "사전: {dictionary}                                           \n",
    "질문: {{query}}\n",
    "\"\"\")\n",
    "\n",
    "def rewrite(state: AgentState) -> AgentState:\n",
    "    \"\"\"\n",
    "    사용자의 질문을 사전을 참고하여 변경.\n",
    "\n",
    "    Args:\n",
    "        state (AgentState): 사용자의 질문을 포함한 에이전트의 현재 state.\n",
    "\n",
    "    Returns:\n",
    "        AgentState: 변경된 질문을 포함하는 state를 반환.\n",
    "    \"\"\"\n",
    "    query = state['query']  # state에서 사용자의 질문을 추출.\n",
    "    \n",
    "    # 리라이트 체인을 구성 프롬프트, LLM, 출력 파서를 연결.\n",
    "    rewrite_chain = rewrite_prompt | llm | StrOutputParser()\n",
    "\n",
    "    # 질문을 변경.\n",
    "    response = rewrite_chain.invoke({'query': query})\n",
    "    \n",
    "    return {'query': response}  # 변경된 질문을 포함하는 state를 반환."
   ]
  },
  {
   "cell_type": "code",
   "execution_count": 52,
   "id": "84ba809d",
   "metadata": {},
   "outputs": [
    {
     "data": {
      "text/plain": [
       "<langgraph.graph.state.StateGraph at 0x1422bab10>"
      ]
     },
     "execution_count": 52,
     "metadata": {},
     "output_type": "execute_result"
    }
   ],
   "source": [
    "# 노드 추가 엣지연결\n",
    "graph_builder.add_node('retrieve', retrieve)\n",
    "graph_builder.add_node('generate', generate)\n",
    "graph_builder.add_node('rewrite', rewrite)"
   ]
  },
  {
   "cell_type": "code",
   "execution_count": 53,
   "id": "4d4d7f9e",
   "metadata": {},
   "outputs": [
    {
     "data": {
      "text/plain": [
       "<langgraph.graph.state.StateGraph at 0x1422bab10>"
      ]
     },
     "execution_count": 53,
     "metadata": {},
     "output_type": "execute_result"
    }
   ],
   "source": [
    "from langgraph.graph import START, END\n",
    "\n",
    "graph_builder.add_edge(START, 'retrieve')\n",
    "graph_builder.add_conditional_edges('retrieve', check_doc_relevance)\n",
    "graph_builder.add_edge('rewrite', 'retrieve')\n",
    "graph_builder.add_edge('generate', END)"
   ]
  },
  {
   "cell_type": "code",
   "execution_count": 54,
   "id": "3a867378",
   "metadata": {},
   "outputs": [],
   "source": [
    "graph = graph_builder.compile()"
   ]
  },
  {
   "cell_type": "code",
   "execution_count": 55,
   "id": "7ef9759c",
   "metadata": {},
   "outputs": [
    {
     "data": {
      "image/png": "[encoded data removed]",
      "text/plain": [
       "<IPython.core.display.Image object>"
      ]
     },
     "metadata": {},
     "output_type": "display_data"
    }
   ],
   "source": [
    "from IPython.display import Image, display\n",
    "\n",
    "display(Image(graph.get_graph().draw_mermaid_png()))"
   ]
  },
  {
   "cell_type": "code",
   "execution_count": null,
   "id": "cb789059",
   "metadata": {},
   "outputs": [
    {
     "name": "stdout",
     "output_type": "stream",
     "text": [
      "context == [Document(metadata={'source': './documents/income_tax.txt'}, page_content='소득세법\\n[시행 2025. 1. 1.] [법률 제20615호, 2024. 12. 31., 일반개정]\\n기획재정부 (세제실세제과) 044-215-4312\\n기획재정부 (소득세제과) 044-215-4216\\n기획재정부 (유형세제과) 044-215-4233\\n기획재정부 (소득세제관리과) 044-215-4217  \\n제1장 총칙\\n제정 2009. 12. 31.\\n제2조(정의)\\n이 법은 개인의 소득에 대하여 소득의 성격과 납세자의 부담능력 등에 따라 적정하게 과세함으로써 세부담의 형평을 도모하고 재정수입의 원활한 조달에 이바지함을 목적으로 한다.\\n[본조신설 2009. 12. 31.]\\n[종전 제1조는 제2조로 이동 <2009. 12. 31.>]  \\n제2조(용어의 정의)\\n① 이 법에서 사용하는 용어의 뜻은 다음과 같다. <개정 2010. 12. 27, 2014. 12. 23, 2018. 12. 31.>\\n1. “거주자”란 국내에 주소를 두거나 183일 이상에 해당하는 거소를 두 개인을 말한다.\\n2. “비거주자”란 거주자가 아닌 개인을 말한다.\\n3. “국내법인”이란 법인세법 제2조제1호에 따른 내국법인을 말한다.\\n4. “외국법인”이란 법인세법 제2조제3호에 따른 외국법인을 말한다.\\n5. “사업자”란 사업소의 있는 거주자를 말한다.\\n6. 제1항에 따른 소득·가소득자·비거주자의 구분은 대통령령으로 정한다.\\n[본조신설 2009. 12. 31.]  \\n제2조(납세의무)\\n구분\\n1. 거주자\\n2. 비거주자로서 국내원천소득(國內源泉所得)이 있는 개인\\n3. 다음 각 호의 어느 하나에 해당하는 자는 이 법에 따라 원천징수한 소득세를 납부할 의무를 진다.\\n   1. 거주자\\n   2. 비거주자\\n   3. 법인\\n   4. 외국법인인 국내접점 또는 국내영업소(出張所, 그 밖에 이에 준하는 것을 포함한다. 이하 같다)\\n5. 그 밖에 이 법에 의해 정하는 원천징수의무자'), Document(metadata={'source': './documents/income_tax.txt'}, page_content='소득세법\\n[시행 2025. 1. 1.] [법률 제20615호, 2024. 12. 31. 공포개정]\\n기획재정부 (세제실세제과) 044-215-4312\\n기획재정부 (소득세제과) 044-215-4216\\n기획재정부 (운영지원과) 044-215-4233\\n기획재정부 (소득세제과(사업소득, 기타소득)) 044-215-4217  \\n제1장 총칙\\n제1조(목적)\\n이 법은 개인의 소득에 대하여 소득의 성격과 납세자의 부담능력 등에 따라 적정하고 공평한 조세부담의 형성을 도모하고 재정수입의 원활한 조달에 이바지함을 목적으로 한다.\\n[본조신설 2009. 12. 31.]\\n[종전 제1조는 제2조로 이동 <2009. 12. 31.>]\\n제2조(정의)\\n이 법에서 사용하는 용어의 뜻은 다음과 같다. <개정 2010. 12. 27, 2014. 12. 23, 2018. 12. 31.>\\n1. “거주자”란 국내에 주소를 두거나 183일 이상 거소를 둔 개인을 말한다.\\n2. “비거주자”란 거주자가 아닌 개인을 말한다.\\n3. “국내사업자”란 법인세법 제2조제1호에 따른 내국법인을 말한다.\\n4. “외국법인”이란 법인세법 제2조제3호에 따른 외국법인을 말한다.\\n5. “사업자”란 사업소득이 있는 거주자를 말한다.\\n6. 제1항에 따른 소득·기타소득·비거주자의 구분은 대통령령으로 정한다.\\n[본조신설 2009. 12. 31.]\\n제3조(납세의무)\\n다음 각 호의 어느 하나에 해당하는 개인은 이 법에 따라 각자의 소득에 대한 소득세를 납부할 의무를 진다.\\n1. 거주자\\n2. 비거주자\\n3. 국내사업자\\n4. 외국법인이 국내에 사업장을(출처소, 그 밖에 이에 준하는 것을 포함한다. 이하 같다) 두고 있는 경우에 해당하는 원천징수의무자\\n5. 그 밖에 이 법에 의해 정하는 원천징수의무자'), Document(metadata={'source': './documents/income_tax.txt'}, page_content='소득세법\\n[시행 2025. 1. 1.] [법률 제20615호, 2024. 12. 31., 일부개정]\\n기획재정부 (새시대세금과) 044-215-4312\\n기획재정부 (소득세과) 044-215-4216\\n기획재정부 (은행세제과) 044-215-4233\\n기획재정부 (소득세과(사남소득, 기타소득)) 044-215-4217')]\n",
      "response == {'Score': 0, 'Explanation': \"The provided facts are related to the Income Tax Law in Korea, including definitions of terms like 'resident' and 'non-resident', and general information about the law's purpose and administrative details. However, the specific question asks about the taxes on an annual salary of 100 million Korean won for an employee. The facts do not mention anything about tax brackets, rates, or calculations specific to salaries at any level, and thus do not provide relevant information to this specific question. Without any mention of income levels, tax rates, or deductions applicable to a 100 million won salary, the facts are unrelated to the question. Therefore, the score is 0.\"}\n",
      "context == [Document(metadata={'source': './documents/income_tax.txt'}, page_content='소득세법\\n[시행 2025. 1. 1.] [법률 제20615호, 2024. 12. 31., 일반개정]\\n기획재정부 (세제실세제과) 044-215-4312\\n기획재정부 (소득세제과) 044-215-4216\\n기획재정부 (유형세제과) 044-215-4233\\n기획재정부 (소득세제관리과) 044-215-4217  \\n제1장 총칙\\n제정 2009. 12. 31.\\n제2조(정의)\\n이 법은 개인의 소득에 대하여 소득의 성격과 납세자의 부담능력 등에 따라 적정하게 과세함으로써 세부담의 형평을 도모하고 재정수입의 원활한 조달에 이바지함을 목적으로 한다.\\n[본조신설 2009. 12. 31.]\\n[종전 제1조는 제2조로 이동 <2009. 12. 31.>]  \\n제2조(용어의 정의)\\n① 이 법에서 사용하는 용어의 뜻은 다음과 같다. <개정 2010. 12. 27, 2014. 12. 23, 2018. 12. 31.>\\n1. “거주자”란 국내에 주소를 두거나 183일 이상에 해당하는 거소를 두 개인을 말한다.\\n2. “비거주자”란 거주자가 아닌 개인을 말한다.\\n3. “국내법인”이란 법인세법 제2조제1호에 따른 내국법인을 말한다.\\n4. “외국법인”이란 법인세법 제2조제3호에 따른 외국법인을 말한다.\\n5. “사업자”란 사업소의 있는 거주자를 말한다.\\n6. 제1항에 따른 소득·가소득자·비거주자의 구분은 대통령령으로 정한다.\\n[본조신설 2009. 12. 31.]  \\n제2조(납세의무)\\n구분\\n1. 거주자\\n2. 비거주자로서 국내원천소득(國內源泉所得)이 있는 개인\\n3. 다음 각 호의 어느 하나에 해당하는 자는 이 법에 따라 원천징수한 소득세를 납부할 의무를 진다.\\n   1. 거주자\\n   2. 비거주자\\n   3. 법인\\n   4. 외국법인인 국내접점 또는 국내영업소(出張所, 그 밖에 이에 준하는 것을 포함한다. 이하 같다)\\n5. 그 밖에 이 법에 의해 정하는 원천징수의무자'), Document(metadata={'source': './documents/income_tax.txt'}, page_content='소득세법\\n[시행 2025. 1. 1.] [법률 제20615호, 2024. 12. 31. 공포개정]\\n기획재정부 (세제실세제과) 044-215-4312\\n기획재정부 (소득세제과) 044-215-4216\\n기획재정부 (운영지원과) 044-215-4233\\n기획재정부 (소득세제과(사업소득, 기타소득)) 044-215-4217  \\n제1장 총칙\\n제1조(목적)\\n이 법은 개인의 소득에 대하여 소득의 성격과 납세자의 부담능력 등에 따라 적정하고 공평한 조세부담의 형성을 도모하고 재정수입의 원활한 조달에 이바지함을 목적으로 한다.\\n[본조신설 2009. 12. 31.]\\n[종전 제1조는 제2조로 이동 <2009. 12. 31.>]\\n제2조(정의)\\n이 법에서 사용하는 용어의 뜻은 다음과 같다. <개정 2010. 12. 27, 2014. 12. 23, 2018. 12. 31.>\\n1. “거주자”란 국내에 주소를 두거나 183일 이상 거소를 둔 개인을 말한다.\\n2. “비거주자”란 거주자가 아닌 개인을 말한다.\\n3. “국내사업자”란 법인세법 제2조제1호에 따른 내국법인을 말한다.\\n4. “외국법인”이란 법인세법 제2조제3호에 따른 외국법인을 말한다.\\n5. “사업자”란 사업소득이 있는 거주자를 말한다.\\n6. 제1항에 따른 소득·기타소득·비거주자의 구분은 대통령령으로 정한다.\\n[본조신설 2009. 12. 31.]\\n제3조(납세의무)\\n다음 각 호의 어느 하나에 해당하는 개인은 이 법에 따라 각자의 소득에 대한 소득세를 납부할 의무를 진다.\\n1. 거주자\\n2. 비거주자\\n3. 국내사업자\\n4. 외국법인이 국내에 사업장을(출처소, 그 밖에 이에 준하는 것을 포함한다. 이하 같다) 두고 있는 경우에 해당하는 원천징수의무자\\n5. 그 밖에 이 법에 의해 정하는 원천징수의무자'), Document(metadata={'source': './documents/income_tax.txt'}, page_content='소득세법\\n[시행 2025. 1. 1.] [법률 제20615호, 2024. 12. 31., 일부개정]\\n기획재정부 (새시대세금과) 044-215-4312\\n기획재정부 (소득세과) 044-215-4216\\n기획재정부 (은행세제과) 044-215-4233\\n기획재정부 (소득세과(사남소득, 기타소득)) 044-215-4217')]\n",
      "response == {'Score': 0, 'Explanation': \"The QUESTION asks specifically about the tax on a resident (거주자) with an annual income of 100 million Won. The provided FACTS concern the income tax law in general, including the implementation dates and definitions such as '거주자', '비거주자', and general tax liabilities without any specifics on tax rates or calculations for a particular income level. There are no details regarding how the tax would be calculated for an income of 1 billion Won within the text. Although the FACTS mention the term '거주자', they do not provide any specific calculation details or relevant data for the given income level to address the QUESTION. Therefore, the FACTS are unrelated to the specific question posed.\"}\n"
     ]
    },
    {
     "ename": "GraphRecursionError",
     "evalue": "Recursion limit of 3 reached without hitting a stop condition. You can increase the limit by setting the `recursion_limit` config key.\nFor troubleshooting, visit: https://python.langchain.com/docs/troubleshooting/errors/GRAPH_RECURSION_LIMIT",
     "output_type": "error",
     "traceback": [
      "\u001b[0;31m---------------------------------------------------------------------------\u001b[0m",
      "\u001b[0;31mGraphRecursionError\u001b[0m                       Traceback (most recent call last)",
      "Cell \u001b[0;32mIn[56], line 2\u001b[0m\n\u001b[1;32m      1\u001b[0m initial_state \u001b[38;5;241m=\u001b[39m {\u001b[38;5;124m'\u001b[39m\u001b[38;5;124mquery\u001b[39m\u001b[38;5;124m'\u001b[39m: \u001b[38;5;124m'\u001b[39m\u001b[38;5;124m직장인 연봉 1억원 세금\u001b[39m\u001b[38;5;124m'\u001b[39m}\n\u001b[0;32m----> 2\u001b[0m \u001b[43mgraph\u001b[49m\u001b[38;5;241;43m.\u001b[39;49m\u001b[43minvoke\u001b[49m\u001b[43m(\u001b[49m\u001b[43minitial_state\u001b[49m\u001b[43m,\u001b[49m\u001b[43m \u001b[49m\u001b[43mconfig\u001b[49m\u001b[38;5;241;43m=\u001b[39;49m\u001b[43m{\u001b[49m\u001b[38;5;124;43m'\u001b[39;49m\u001b[38;5;124;43mrecursion_limit\u001b[39;49m\u001b[38;5;124;43m'\u001b[39;49m\u001b[43m:\u001b[49m\u001b[43m \u001b[49m\u001b[38;5;241;43m3\u001b[39;49m\u001b[43m}\u001b[49m\u001b[43m)\u001b[49m\n",
      "File \u001b[0;32m~/MayLangChainLangGraphMCP/.venv/lib/python3.13/site-packages/langgraph/pregel/__init__.py:1936\u001b[0m, in \u001b[0;36mPregel.invoke\u001b[0;34m(self, input, config, stream_mode, output_keys, interrupt_before, interrupt_after, debug, **kwargs)\u001b[0m\n\u001b[1;32m   1934\u001b[0m \u001b[38;5;28;01melse\u001b[39;00m:\n\u001b[1;32m   1935\u001b[0m     chunks \u001b[38;5;241m=\u001b[39m []\n\u001b[0;32m-> 1936\u001b[0m \u001b[43m\u001b[49m\u001b[38;5;28;43;01mfor\u001b[39;49;00m\u001b[43m \u001b[49m\u001b[43mchunk\u001b[49m\u001b[43m \u001b[49m\u001b[38;5;129;43;01min\u001b[39;49;00m\u001b[43m \u001b[49m\u001b[38;5;28;43mself\u001b[39;49m\u001b[38;5;241;43m.\u001b[39;49m\u001b[43mstream\u001b[49m\u001b[43m(\u001b[49m\n\u001b[1;32m   1937\u001b[0m \u001b[43m    \u001b[49m\u001b[38;5;28;43minput\u001b[39;49m\u001b[43m,\u001b[49m\n\u001b[1;32m   1938\u001b[0m \u001b[43m    \u001b[49m\u001b[43mconfig\u001b[49m\u001b[43m,\u001b[49m\n\u001b[1;32m   1939\u001b[0m \u001b[43m    \u001b[49m\u001b[43mstream_mode\u001b[49m\u001b[38;5;241;43m=\u001b[39;49m\u001b[43mstream_mode\u001b[49m\u001b[43m,\u001b[49m\n\u001b[1;32m   1940\u001b[0m \u001b[43m    \u001b[49m\u001b[43moutput_keys\u001b[49m\u001b[38;5;241;43m=\u001b[39;49m\u001b[43moutput_keys\u001b[49m\u001b[43m,\u001b[49m\n\u001b[1;32m   1941\u001b[0m \u001b[43m    \u001b[49m\u001b[43minterrupt_before\u001b[49m\u001b[38;5;241;43m=\u001b[39;49m\u001b[43minterrupt_before\u001b[49m\u001b[43m,\u001b[49m\n\u001b[1;32m   1942\u001b[0m \u001b[43m    \u001b[49m\u001b[43minterrupt_after\u001b[49m\u001b[38;5;241;43m=\u001b[39;49m\u001b[43minterrupt_after\u001b[49m\u001b[43m,\u001b[49m\n\u001b[1;32m   1943\u001b[0m \u001b[43m    \u001b[49m\u001b[43mdebug\u001b[49m\u001b[38;5;241;43m=\u001b[39;49m\u001b[43mdebug\u001b[49m\u001b[43m,\u001b[49m\n\u001b[1;32m   1944\u001b[0m \u001b[43m    \u001b[49m\u001b[38;5;241;43m*\u001b[39;49m\u001b[38;5;241;43m*\u001b[39;49m\u001b[43mkwargs\u001b[49m\u001b[43m,\u001b[49m\n\u001b[1;32m   1945\u001b[0m \u001b[43m\u001b[49m\u001b[43m)\u001b[49m\u001b[43m:\u001b[49m\n\u001b[1;32m   1946\u001b[0m \u001b[43m    \u001b[49m\u001b[38;5;28;43;01mif\u001b[39;49;00m\u001b[43m \u001b[49m\u001b[43mstream_mode\u001b[49m\u001b[43m \u001b[49m\u001b[38;5;241;43m==\u001b[39;49m\u001b[43m \u001b[49m\u001b[38;5;124;43m\"\u001b[39;49m\u001b[38;5;124;43mvalues\u001b[39;49m\u001b[38;5;124;43m\"\u001b[39;49m\u001b[43m:\u001b[49m\n\u001b[1;32m   1947\u001b[0m \u001b[43m        \u001b[49m\u001b[43mlatest\u001b[49m\u001b[43m \u001b[49m\u001b[38;5;241;43m=\u001b[39;49m\u001b[43m \u001b[49m\u001b[43mchunk\u001b[49m\n",
      "File \u001b[0;32m~/MayLangChainLangGraphMCP/.venv/lib/python3.13/site-packages/langgraph/pregel/__init__.py:1676\u001b[0m, in \u001b[0;36mPregel.stream\u001b[0;34m(self, input, config, stream_mode, output_keys, interrupt_before, interrupt_after, debug, subgraphs)\u001b[0m\n\u001b[1;32m   1667\u001b[0m \u001b[38;5;28;01mif\u001b[39;00m loop\u001b[38;5;241m.\u001b[39mstatus \u001b[38;5;241m==\u001b[39m \u001b[38;5;124m\"\u001b[39m\u001b[38;5;124mout_of_steps\u001b[39m\u001b[38;5;124m\"\u001b[39m:\n\u001b[1;32m   1668\u001b[0m     msg \u001b[38;5;241m=\u001b[39m create_error_message(\n\u001b[1;32m   1669\u001b[0m         message\u001b[38;5;241m=\u001b[39m(\n\u001b[1;32m   1670\u001b[0m             \u001b[38;5;124mf\u001b[39m\u001b[38;5;124m\"\u001b[39m\u001b[38;5;124mRecursion limit of \u001b[39m\u001b[38;5;132;01m{\u001b[39;00mconfig[\u001b[38;5;124m'\u001b[39m\u001b[38;5;124mrecursion_limit\u001b[39m\u001b[38;5;124m'\u001b[39m]\u001b[38;5;132;01m}\u001b[39;00m\u001b[38;5;124m reached \u001b[39m\u001b[38;5;124m\"\u001b[39m\n\u001b[0;32m   (...)\u001b[0m\n\u001b[1;32m   1674\u001b[0m         error_code\u001b[38;5;241m=\u001b[39mErrorCode\u001b[38;5;241m.\u001b[39mGRAPH_RECURSION_LIMIT,\n\u001b[1;32m   1675\u001b[0m     )\n\u001b[0;32m-> 1676\u001b[0m     \u001b[38;5;28;01mraise\u001b[39;00m GraphRecursionError(msg)\n\u001b[1;32m   1677\u001b[0m \u001b[38;5;66;03m# set final channel values as run output\u001b[39;00m\n\u001b[1;32m   1678\u001b[0m run_manager\u001b[38;5;241m.\u001b[39mon_chain_end(loop\u001b[38;5;241m.\u001b[39moutput)\n",
      "\u001b[0;31mGraphRecursionError\u001b[0m: Recursion limit of 3 reached without hitting a stop condition. You can increase the limit by setting the `recursion_limit` config key.\nFor troubleshooting, visit: https://python.langchain.com/docs/troubleshooting/errors/GRAPH_RECURSION_LIMIT"
     ]
    }
   ],
   "source": [
    "initial_state = {'query': '직장인 연봉 1억원 세금'}\n",
    "graph.invoke(initial_state, config={'recursion_limit': 10})"
   ]
  }
 ],
 "metadata": {
  "kernelspec": {
   "display_name": ".venv",
   "language": "python",
   "name": "python3"
  },
  "language_info": {
   "codemirror_mode": {
    "name": "ipython",
    "version": 3
   },
   "file_extension": ".py",
   "mimetype": "text/x-python",
   "name": "python",
   "nbconvert_exporter": "python",
   "pygments_lexer": "ipython3",
   "version": "3.13.2"
  }
 },
 "nbformat": 4,
 "nbformat_minor": 5
}
