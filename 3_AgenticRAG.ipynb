{
 "cells": [
  {
   "cell_type": "markdown",
   "id": "a3dd2e82",
   "metadata": {},
   "source": [
    "![Agentic RAG](images/agenticRAG.png)\n",
    "\n",
    "![Agentic RAG](images/whitePaperVsPractice.png)\n",
    "\n",
    "The first image shows the flow from the official LangGraph documentation.\n",
    "If I follow the official documentation, rewrite will not work properly, so I plan to make a slight modification.\n"
   ]
  },
  {
   "cell_type": "code",
   "execution_count": 1,
   "id": "50ce7c2e",
   "metadata": {},
   "outputs": [],
   "source": [
    "from langchain_chroma import Chroma\n",
    "from langchain_openai import OpenAIEmbeddings\n",
    "\n",
    "embedding_function = OpenAIEmbeddings(model='text-embedding-3-large')\n",
    "\n",
    "vector_store = Chroma(\n",
    "    embedding_function=embedding_function,\n",
    "    collection_name = 'income_tax_collection',\n",
    "    persist_directory = './income_tax_collection'\n",
    ")\n",
    "retriever = vector_store.as_retriever(search_kwargs={'k': 3})"
   ]
  },
  {
   "cell_type": "code",
   "execution_count": 2,
   "id": "3ace2800",
   "metadata": {},
   "outputs": [],
   "source": [
    "from typing_extensions import List, TypedDict\n",
    "from langchain_core.documents import Document\n",
    "from langgraph.graph import StateGraph\n",
    "\n",
    "class AgentState(TypedDict):\n",
    "    query: str\n",
    "    context: List[Document]\n",
    "    answer: str\n",
    "    \n",
    "graph_builder = StateGraph(AgentState)"
   ]
  },
  {
   "cell_type": "code",
   "execution_count": 3,
   "id": "9e92a484",
   "metadata": {},
   "outputs": [],
   "source": [
    "def retrieve(state: AgentState) -> AgentState:\n",
    "    \"\"\"\n",
    "    사용자의 질문에 기반하여 벡터 스토어에서 관련 문서를 검색\n",
    "\n",
    "    Args:\n",
    "        state (AgentState): 사용자의 질문을 포함한 에이전트의 현재 state.\n",
    "\n",
    "    Returns:\n",
    "        AgentState: 검색된 문서가 추가된 state를 반환\n",
    "    \"\"\"\n",
    "    query = state['query']  # state에서 사용자의 질문을 추출.\n",
    "    docs = retriever.invoke(query)  # 질문과 관련된 문서를 검색.\n",
    "    return {'context': docs}  # 검색된 문서를 포함한 state를 반환."
   ]
  },
  {
   "cell_type": "code",
   "execution_count": 4,
   "id": "6971c7a8",
   "metadata": {},
   "outputs": [],
   "source": [
    "from langchain_openai import ChatOpenAI\n",
    "\n",
    "llm = ChatOpenAI(model='gpt-4o')"
   ]
  },
  {
   "cell_type": "code",
   "execution_count": 5,
   "id": "b9e7dc90",
   "metadata": {},
   "outputs": [],
   "source": [
    "from langchain import hub\n",
    "\n",
    "# RAG 프롬프트를 가져오기\n",
    "generate_prompt = hub.pull(\"rlm/rag-prompt\")\n",
    "\n",
    "def generate(state: AgentState) -> AgentState:\n",
    "    \"\"\"\n",
    "    주어진 state를 기반으로 RAG 체인을 사용하여 응답을 생성\n",
    "\n",
    "    Args:\n",
    "        state (AgentState): 사용자의 질문과 문맥을 포함한 에이전트의 현재 state.\n",
    "\n",
    "    Returns:\n",
    "        AgentState: 생성된 응답을 포함하는 state를 반환\n",
    "    \"\"\"\n",
    "    context = state['context']  # state에서 문맥을 추출\n",
    "    query = state['query']      # state에서 사용자의 질문을 추출\n",
    "    \n",
    "    # RAG 체인을 구성\n",
    "    rag_chain = generate_prompt | llm\n",
    "    \n",
    "    # 질문과 문맥을 사용하여 응답을 생성\n",
    "    response = rag_chain.invoke({'question': query, 'context': context})\n",
    "    \n",
    "    return {'answer': response}  # 생성된 응답을 포함하는 state를 반환"
   ]
  }
 ],
 "metadata": {
  "kernelspec": {
   "display_name": ".venv",
   "language": "python",
   "name": "python3"
  },
  "language_info": {
   "codemirror_mode": {
    "name": "ipython",
    "version": 3
   },
   "file_extension": ".py",
   "mimetype": "text/x-python",
   "name": "python",
   "nbconvert_exporter": "python",
   "pygments_lexer": "ipython3",
   "version": "3.13.2"
  }
 },
 "nbformat": 4,
 "nbformat_minor": 5
}
