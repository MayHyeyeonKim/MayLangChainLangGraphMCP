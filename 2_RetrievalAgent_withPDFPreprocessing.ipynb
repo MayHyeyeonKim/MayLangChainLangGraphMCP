{
 "cells": [
  {
   "cell_type": "code",
   "execution_count": 74,
   "id": "98dca474",
   "metadata": {},
   "outputs": [
    {
     "name": "stdout",
     "output_type": "stream",
     "text": [
      "Python 3.13.2\n"
     ]
    }
   ],
   "source": [
    "!python --version"
   ]
  },
  {
   "cell_type": "code",
   "execution_count": 75,
   "id": "4d9f1f5a",
   "metadata": {},
   "outputs": [],
   "source": [
    "from langchain_community.document_loaders import PyPDFLoader\n",
    "\n",
    "pdf_file_path = './documents/income_tax.pdf'\n",
    "loader = PyPDFLoader(pdf_file_path)\n",
    "pages=[]\n",
    "async for page in loader.alazy_load():\n",
    "    pages.append(page)"
   ]
  },
  {
   "cell_type": "code",
   "execution_count": 76,
   "id": "041ccd93",
   "metadata": {},
   "outputs": [
    {
     "data": {
      "text/plain": [
       "Document(metadata={'producer': 'iText 2.1.7 by 1T3XT', 'creator': 'PyPDF', 'creationdate': '2025-01-10T10:55:01+09:00', 'moddate': '2025-01-10T10:55:01+09:00', 'source': './documents/income_tax.pdf', 'total_pages': 133, 'page': 35, 'page_label': '36'}, page_content='법제처                                                            36                                                       국가법령정보센터\\n소득세법\\n② 거주자의 퇴직소득에 대한 소득세는 다음 각 호의 순서에 따라 계산한 금액(이하 “퇴직소득 산출세액”이라 한다\\n)으로 한다.<개정 2013. 1. 1., 2014. 12. 23.>\\n1. 해당 과세기간의 퇴직소득과세표준에 제1항의 세율을 적용하여 계산한 금액\\n2. 제1호의 금액을 12로 나눈 금액에 근속연수를 곱한 금액\\n3. 삭제<2014. 12. 23.>\\n[전문개정 2009. 12. 31.]\\n \\n           제2관 세액공제 <개정 2009. 12. 31.>\\n \\n제56조(배당세액공제) ① 거주자의 종합소득금액에 제17조제3항 각 호 외의 부분 단서가 적용되는 배당소득금액이 합\\n산되어 있는 경우에는 같은 항 각 호 외의 부분 단서에 따라 해당 과세기간의 총수입금액에 더한 금액에 해당하는\\n금액을 종합소득 산출세액에서 공제한다. <개정 2009. 12. 31.>\\n② 제1항에 따른 공제를 “배당세액공제”라 한다.<개정 2009. 12. 31.>\\n③ 삭제<2003. 12. 30.>\\n④ 제1항을 적용할 때 배당세액공제의 대상이 되는 배당소득금액은 제14조제2항의 종합소득과세표준에 포함된 배\\n당소득금액으로서 이자소득등의 종합과세기준금액을 초과하는 것으로 한다.<개정 2009. 12. 31.>\\n⑤ 삭제<2006. 12. 30.>\\n⑥ 배당세액공제액의 계산 등에 필요한 사항은 대통령령으로 정한다.<개정 2009. 12. 31.>\\n[제목개정 2009. 12. 31.]\\n \\n제56조의2(기장세액공제) ① 제160조제3항에 따른 간편장부대상자가 제70조 또는 제74조에 따른 과세표준확정신고를\\n할 때 복식부기에 따라 기장(記帳)하여 소득금액을 계산하고 제70조제4항제3호에 따른 서류를 제출하는 경우에는\\n해당 장부에 의하여 계산한 사업소득금액이 종합소득금액에서 차지하는 비율을 종합소득 산출세액에 곱하여 계산한\\n금액의 100분의 20에 해당하는 금액을 종합소득 산출세액에서 공제한다. 다만, 공제세액이 100만원을 초과하는 경\\n우에는 100만원을 공제한다.\\n② 다음 각 호의 어느 하나에 해당하는 경우에는 제1항에 따른 공제[이하 “기장세액공제”(記帳稅額控除)라 한다]를\\n적용하지 아니한다.\\n1. 비치ㆍ기록한 장부에 의하여 신고하여야 할 소득금액의 100분의 20 이상을 누락하여 신고한 경우\\n2. 기장세액공제와 관련된 장부 및 증명서류를 해당 과세표준확정신고기간 종료일부터 5년간 보관하지 아니한 경\\n우. 다만, 천재지변 등 대통령령으로 정하는 부득이한 사유에 해당하는 경우에는 그러하지 아니하다.\\n③ 기장세액공제에 관하여 필요한 사항은 대통령령으로 정한다.\\n[전문개정 2009. 12. 31.]\\n \\n제56조의3(전자계산서 발급 전송에 대한 세액공제) ① 총수입금액 등을 고려하여 대통령령으로 정하는 사업자가 제\\n163조제1항 후단에 따른 전자계산서를 2027년 12월 31일까지 발급(제163조제8항에 따라 전자계산서 발급명세를\\n국세청장에게 전송하는 경우로 한정한다)하는 경우에는 전자계산서 발급 건수 등을 고려하여 대통령령으로 정하는\\n금액을 해당 과세기간의 사업소득에 대한 종합소득산출세액에서 공제할 수 있다. 이 경우 공제한도는 연간 100만원\\n으로 한다. <개정 2021. 12. 8., 2024. 12. 31.>\\n② 제1항에 따른 세액공제를 적용받으려는 사업자는 제70조 또는 제74조에 따른 과세표준확정신고를 할 때 기획재\\n정부령으로 정하는 전자계산서 발급 세액공제신고서를 납세지 관할 세무서장에게 제출하여야 한다.\\n[본조신설 2014. 12. 23.]\\n \\n제57조(외국납부세액공제) ① 거주자의 종합소득금액 또는 퇴직소득금액에 국외원천소득이 합산되어 있는 경우로서\\n그 국외원천소득에 대하여 외국에서 대통령령으로 정하는 외국소득세액(이하 이 조에서 “외국소득세액”이라 한다)을\\n납부하였거나 납부할 것이 있을 때에는 다음 계산식에 따라 계산한 금액(이하 이 조에서 “공제한도금액”이라 한다)')"
      ]
     },
     "execution_count": 76,
     "metadata": {},
     "output_type": "execute_result"
    }
   ],
   "source": [
    "pages[35]"
   ]
  },
  {
   "cell_type": "markdown",
   "id": "74b6d29f",
   "metadata": {},
   "source": [
    "- Install the [py-zerox](https://www.piwheels.org/project/py-zerox/) package for data preprocessing"
   ]
  },
  {
   "cell_type": "code",
   "execution_count": 41,
   "id": "faeb2130",
   "metadata": {},
   "outputs": [
    {
     "name": "stdout",
     "output_type": "stream",
     "text": [
      "Note: you may need to restart the kernel to use updated packages.\n"
     ]
    }
   ],
   "source": [
    "%pip install -q py-zerox"
   ]
  },
  {
   "cell_type": "code",
   "execution_count": 42,
   "id": "5f20c7dc",
   "metadata": {},
   "outputs": [
    {
     "data": {
      "text/plain": [
       "True"
      ]
     },
     "execution_count": 42,
     "metadata": {},
     "output_type": "execute_result"
    }
   ],
   "source": [
    "from dotenv import load_dotenv\n",
    "\n",
    "load_dotenv()\n",
    "\n"
   ]
  },
  {
   "cell_type": "code",
   "execution_count": 43,
   "id": "49b46b0d",
   "metadata": {},
   "outputs": [
    {
     "name": "stdout",
     "output_type": "stream",
     "text": [
      "Note: you may need to restart the kernel to use updated packages.\n"
     ]
    }
   ],
   "source": [
    "%pip install -q nest_asyncio"
   ]
  },
  {
   "cell_type": "code",
   "execution_count": 44,
   "id": "5efac486",
   "metadata": {},
   "outputs": [],
   "source": [
    "import nest_asyncio\n",
    "nest_asyncio.apply()"
   ]
  },
  {
   "cell_type": "code",
   "execution_count": 45,
   "id": "85df6533",
   "metadata": {},
   "outputs": [
    {
     "name": "stdout",
     "output_type": "stream",
     "text": [
      "pdfinfo -> /opt/homebrew/bin/pdfinfo\n",
      "pdftoppm -> /opt/homebrew/bin/pdftoppm\n"
     ]
    }
   ],
   "source": [
    "import os, shutil\n",
    "\n",
    "# Jupyter 커널 PATH 보강\n",
    "os.environ[\"PATH\"] = \"/opt/homebrew/bin:/opt/homebrew/opt/poppler/bin:\" + os.environ[\"PATH\"]\n",
    "\n",
    "print(\"pdfinfo ->\", shutil.which(\"pdfinfo\"))\n",
    "print(\"pdftoppm ->\", shutil.which(\"pdftoppm\"))\n"
   ]
  },
  {
   "cell_type": "code",
   "execution_count": 46,
   "id": "719e3a79",
   "metadata": {},
   "outputs": [
    {
     "name": "stdout",
     "output_type": "stream",
     "text": [
      "ZeroxOutput(completion_time=41262.475, file_name='income_tax', input_tokens=36877, output_tokens=895, pages=[Page(content='# 소득세법\\n\\n[시행 2025. 1. 1.] [법률 제20615호, 2024. 12. 31., 일반개정]  \\n기획재정부 (세제실세제과) 044-215-4312  \\n기획재정부 (소득세제과) 044-215-4216  \\n기획재정부 (유형세제과) 044-215-4233  \\n기획재정부 (소득세제관리과) 044-215-4217  \\n\\n## 제1장 총칙  \\n### 제정 2009. 12. 31.  \\n\\n## 제2조(정의)  \\n이 법은 개인의 소득에 대하여 소득의 성격과 납세자의 부담능력 등에 따라 적정하게 과세함으로써 세부담의 형평을 도모하고 재정수입의 원활한 조달에 이바지함을 목적으로 한다.  \\n[본조신설 2009. 12. 31.]  \\n[종전 제1조는 제2조로 이동 <2009. 12. 31.>]  \\n\\n### 제2조(용어의 정의)  \\n① 이 법에서 사용하는 용어의 뜻은 다음과 같다. <개정 2010. 12. 27, 2014. 12. 23, 2018. 12. 31.>  \\n1. “거주자”란 국내에 주소를 두거나 183일 이상에 해당하는 거소를 두 개인을 말한다.  \\n2. “비거주자”란 거주자가 아닌 개인을 말한다.  \\n3. “국내법인”이란 법인세법 제2조제1호에 따른 내국법인을 말한다.  \\n4. “외국법인”이란 법인세법 제2조제3호에 따른 외국법인을 말한다.  \\n5. “사업자”란 사업소의 있는 거주자를 말한다.  \\n6. 제1항에 따른 소득·가소득자·비거주자의 구분은 대통령령으로 정한다.  \\n[본조신설 2009. 12. 31.]  \\n\\n## 제2조(납세의무)  \\n구분  \\n1. 거주자  \\n2. 비거주자로서 국내원천소득(國內源泉所得)이 있는 개인  \\n3. 다음 각 호의 어느 하나에 해당하는 자는 이 법에 따라 원천징수한 소득세를 납부할 의무를 진다.  \\n   1. 거주자  \\n   2. 비거주자  \\n   3. 법인  \\n   4. 외국법인인 국내접점 또는 국내영업소(出張所, 그 밖에 이에 준하는 것을 포함한다. 이하 같다)  \\n5. 그 밖에 이 법에 의해 정하는 원천징수의무자  \\n6. “국세기본법” 제23조제1항에 따른 법인 이 단체 같은 제정에 따른 법인으로 보는 단체(이하 “법인으로 보는 단체”라 한다) 외의 법인 아닌 단체는 국내에 주사무소 또는 사업의 실제적 관리장소를 두는 경우에는 1거주자로 본다.  \\n, 그 밖에 각 호의 거주자부에 이 법을 적용한다. 다음 각 호의 어느 하나에 해당하는 경우에도 소득세 부과의 경우에도 법인에 대한 소득세는 법인을 납부할 의무를 진다.<제정 2010. 12. 27, 2013. 1. 1, 2018. 12. 31.>  \\n1. 구성이란 이의 명의변경이 정하여져 있지 아니하는 구성원들의 경우의 본법에서의 본법의 내용이 포함된다. 이해 조세에 대한 납부할 의무를 진다.<신설 2018. 12. 31.>  \\n\\n---\\n법제처 1', content_length=1379, page=1)])\n"
     ]
    }
   ],
   "source": [
    "from pyzerox import zerox\n",
    "import asyncio\n",
    "\n",
    "kwargs = {}\n",
    "custom_system_prompt = None\n",
    "\n",
    "model = \"gpt-4o-mini\" \n",
    "\n",
    "async def main():\n",
    "    file_path = \"./documents/income_tax.pdf\"\n",
    "    # select_pages = None ## 전체는 None, 특정 페이지는 int 또는 list(int) 페이지 번호 (1부터 시작)\n",
    "    select_pages = [1]\n",
    "\n",
    "    output_dir = \"./documents\"\n",
    "\n",
    "    result = await zerox(file_path=file_path, model=model, output_dir=output_dir,\n",
    "                        custom_system_prompt=custom_system_prompt, select_pages=select_pages, **kwargs)\n",
    "\n",
    "    return result\n",
    "\n",
    "result = asyncio.run(main())\n",
    "print(result)"
   ]
  },
  {
   "cell_type": "code",
   "execution_count": 47,
   "id": "31c44ebb",
   "metadata": {},
   "outputs": [
    {
     "name": "stdout",
     "output_type": "stream",
     "text": [
      "Note: you may need to restart the kernel to use updated packages.\n"
     ]
    }
   ],
   "source": [
    "# https://github.com/Unstructured-IO: 다양한 문서 파일(PDF, Word, PowerPoint, HTML, 이미지, 이메일 등등)을 텍스트/문단 단위로 쪼개서 추출해주는 오픈소스 라이브러리\n",
    "# unstructured[md]: document parser, [md] → “extra dependency\n",
    "# nltk: Natural Language Toolkit (The oldest and most traditional natural language processing (NLP) library in Python)\n",
    "\n",
    "%pip install -q \"unstructured[md]\" nltk"
   ]
  },
  {
   "cell_type": "markdown",
   "id": "4da4a13f",
   "metadata": {},
   "source": [
    "여기까지 일단 preprocessing 해둠.\n",
    "\n",
    "Poppler → PDF를 이미지·텍스트 블록 단위로 해체  \n",
    "pyzerox → 그 텍스트를 LLM(GPT-4o/mini)에 태워서 마크다운 구조화 텍스트로 변환  \n",
    "unstructured나 nltk 같은 라이브러리로 더 잘게 쪼개서 토큰화/분석 준비"
   ]
  },
  {
   "cell_type": "code",
   "execution_count": 48,
   "id": "7c304b93",
   "metadata": {},
   "outputs": [],
   "source": [
    "from langchain_text_splitters import RecursiveCharacterTextSplitter\n",
    "\n",
    "text_splitter = RecursiveCharacterTextSplitter(\n",
    "    chunk_size=1000,\n",
    "    chunk_overlap=100,\n",
    "    separators=[\"\\n\\n\", \"\\n\", \" \", \"\"]\n",
    ")\n",
    "\n",
    "# 한 청크에 최대 크기 1000자 제한, 겹치는 부분 100자 이내로, 어디서 자를 지 -> separators (문단 > 줄바꿈 > 단어 > 글자)"
   ]
  },
  {
   "cell_type": "code",
   "execution_count": 49,
   "id": "45131fdb",
   "metadata": {},
   "outputs": [],
   "source": [
    "from langchain_community.document_loaders import UnstructuredMarkdownLoader\n",
    "\n",
    "markdown_path = \"./documents/income_tax.md\"\n",
    "loader = UnstructuredMarkdownLoader(markdown_path) # 이 경로에 있는 마크다운 파일을 읽어서 LangChain 문서 객체로 바꿔줄 준비를 하는 로더\n",
    "document_list = loader.load_and_split(text_splitter)"
   ]
  },
  {
   "cell_type": "code",
   "execution_count": 50,
   "id": "e1d1b613",
   "metadata": {},
   "outputs": [
    {
     "data": {
      "text/plain": [
       "[Document(metadata={'source': './documents/income_tax.md'}, page_content='소득세법\\n\\n[시행 2025. 1. 1.] [법률 제20615호, 2024. 12. 31., 일반개정] 기획재정부 (세제실세제과) 044-215-4312 기획재정부 (소득세제과) 044-215-4216 기획재정부 (유형세제과) 044-215-4233 기획재정부 (소득세제관리과) 044-215-4217\\n\\n제1장 총칙\\n\\n제정 2009. 12. 31.\\n\\n제2조(정의)\\n\\n이 법은 개인의 소득에 대하여 소득의 성격과 납세자의 부담능력 등에 따라 적정하게 과세함으로써 세부담의 형평을 도모하고 재정수입의 원활한 조달에 이바지함을 목적으로 한다. [본조신설 2009. 12. 31.] [종전 제1조는 제2조로 이동 <2009. 12. 31.>]\\n\\n제2조(용어의 정의)\\n\\n① 이 법에서 사용하는 용어의 뜻은 다음과 같다. <개정 2010. 12. 27, 2014. 12. 23, 2018. 12. 31.> 1. “거주자”란 국내에 주소를 두거나 183일 이상에 해당하는 거소를 두 개인을 말한다. 2. “비거주자”란 거주자가 아닌 개인을 말한다. 3. “국내법인”이란 법인세법 제2조제1호에 따른 내국법인을 말한다. 4. “외국법인”이란 법인세법 제2조제3호에 따른 외국법인을 말한다. 5. “사업자”란 사업소의 있는 거주자를 말한다. 6. 제1항에 따른 소득·가소득자·비거주자의 구분은 대통령령으로 정한다. [본조신설 2009. 12. 31.]\\n\\n제2조(납세의무)'),\n",
       " Document(metadata={'source': './documents/income_tax.md'}, page_content='제2조(납세의무)\\n\\n구분 1. 거주자 2. 비거주자로서 국내원천소득(國內源泉所得)이 있는 개인 3. 다음 각 호의 어느 하나에 해당하는 자는 이 법에 따라 원천징수한 소득세를 납부할 의무를 진다. 1. 거주자 2. 비거주자 3. 법인 4. 외국법인인 국내접점 또는 국내영업소(出張所, 그 밖에 이에 준하는 것을 포함한다. 이하 같다) 5. 그 밖에 이 법에 의해 정하는 원천징수의무자 6. “국세기본법” 제23조제1항에 따른 법인 이 단체 같은 제정에 따른 법인으로 보는 단체(이하 “법인으로 보는 단체”라 한다) 외의 법인 아닌 단체는 국내에 주사무소 또는 사업의 실제적 관리장소를 두는 경우에는 1거주자로 본다. , 그 밖에 각 호의 거주자부에 이 법을 적용한다. 다음 각 호의 어느 하나에 해당하는 경우에도 소득세 부과의 경우에도 법인에 대한 소득세는 법인을 납부할 의무를 진다.<제정 2010. 12. 27, 2013. 1. 1, 2018. 12. 31.> 1. 구성이란 이의 명의변경이 정하여져 있지 아니하는 구성원들의 경우의 본법에서의 본법의 내용이 포함된다. 이해 조세에 대한 납부할 의무를 진다.<신설 2018. 12. 31.>\\n\\n법제처 1')]"
      ]
     },
     "execution_count": 50,
     "metadata": {},
     "output_type": "execute_result"
    }
   ],
   "source": [
    "document_list[:5]\n"
   ]
  },
  {
   "cell_type": "code",
   "execution_count": 51,
   "id": "a6658dae",
   "metadata": {},
   "outputs": [
    {
     "name": "stdout",
     "output_type": "stream",
     "text": [
      "Note: you may need to restart the kernel to use updated packages.\n"
     ]
    }
   ],
   "source": [
    "%pip install -q markdown html2text beautifulsoup4"
   ]
  },
  {
   "cell_type": "code",
   "execution_count": 52,
   "id": "a2db0e46",
   "metadata": {},
   "outputs": [
    {
     "name": "stdout",
     "output_type": "stream",
     "text": [
      "Markdown converted to plain text successfully.\n"
     ]
    }
   ],
   "source": [
    "import markdown\n",
    "from bs4 import BeautifulSoup\n",
    "\n",
    "text_path = \"./documents/income_tax.txt\"\n",
    "\n",
    "# read the MD\n",
    "with open(markdown_path, \"r\", encoding=\"utf-8\") as md_file:\n",
    "    md_content = md_file.read()\n",
    "\n",
    "# Convert md content to HTML\n",
    "html_content = markdown.markdown(md_content)\n",
    "\n",
    "# Parsing\n",
    "soup = BeautifulSoup(html_content, \"html.parser\")\n",
    "text = soup.get_text()\n",
    "\n",
    "# Save the text content to a .txt file\n",
    "with open(text_path, \"w\", encoding=\"utf-8\") as text_file:\n",
    "    text_file.write(text)\n",
    "\n",
    "print(\"Markdown converted to plain text successfully.\")\n"
   ]
  },
  {
   "cell_type": "markdown",
   "id": "c9dcf8a1",
   "metadata": {},
   "source": [
    "마크다운 문서를 → HTML로 바꾸고 → HTML 태그를 제거해서 → 순수 텍스트만 남겨서 .txt 파일로 저장하는 작업\n",
    "\n",
    "UnstructuredMarkdownLoader: .md 파일을 읽어서 LangChain의 Document 객체 리스트로 바꿔줌 (LangChain 커뮤니티 모듈 안에 있는 문서 로더)"
   ]
  },
  {
   "cell_type": "code",
   "execution_count": 53,
   "id": "a48a54c6",
   "metadata": {},
   "outputs": [],
   "source": [
    "from langchain_community.document_loaders import TextLoader\n",
    "\n",
    "loader = TextLoader(text_path)\n",
    "document_list = loader.load_and_split(text_splitter)"
   ]
  },
  {
   "cell_type": "code",
   "execution_count": 54,
   "id": "9568fc23",
   "metadata": {},
   "outputs": [
    {
     "data": {
      "text/plain": [
       "[Document(metadata={'source': './documents/income_tax.txt'}, page_content='소득세법\\n[시행 2025. 1. 1.] [법률 제20615호, 2024. 12. 31., 일반개정]\\n기획재정부 (세제실세제과) 044-215-4312\\n기획재정부 (소득세제과) 044-215-4216\\n기획재정부 (유형세제과) 044-215-4233\\n기획재정부 (소득세제관리과) 044-215-4217  \\n제1장 총칙\\n제정 2009. 12. 31.\\n제2조(정의)\\n이 법은 개인의 소득에 대하여 소득의 성격과 납세자의 부담능력 등에 따라 적정하게 과세함으로써 세부담의 형평을 도모하고 재정수입의 원활한 조달에 이바지함을 목적으로 한다.\\n[본조신설 2009. 12. 31.]\\n[종전 제1조는 제2조로 이동 <2009. 12. 31.>]  \\n제2조(용어의 정의)\\n① 이 법에서 사용하는 용어의 뜻은 다음과 같다. <개정 2010. 12. 27, 2014. 12. 23, 2018. 12. 31.>\\n1. “거주자”란 국내에 주소를 두거나 183일 이상에 해당하는 거소를 두 개인을 말한다.\\n2. “비거주자”란 거주자가 아닌 개인을 말한다.\\n3. “국내법인”이란 법인세법 제2조제1호에 따른 내국법인을 말한다.\\n4. “외국법인”이란 법인세법 제2조제3호에 따른 외국법인을 말한다.\\n5. “사업자”란 사업소의 있는 거주자를 말한다.\\n6. 제1항에 따른 소득·가소득자·비거주자의 구분은 대통령령으로 정한다.\\n[본조신설 2009. 12. 31.]  \\n제2조(납세의무)\\n구분\\n1. 거주자\\n2. 비거주자로서 국내원천소득(國內源泉所得)이 있는 개인\\n3. 다음 각 호의 어느 하나에 해당하는 자는 이 법에 따라 원천징수한 소득세를 납부할 의무를 진다.\\n   1. 거주자\\n   2. 비거주자\\n   3. 법인\\n   4. 외국법인인 국내접점 또는 국내영업소(出張所, 그 밖에 이에 준하는 것을 포함한다. 이하 같다)\\n5. 그 밖에 이 법에 의해 정하는 원천징수의무자'),\n",
       " Document(metadata={'source': './documents/income_tax.txt'}, page_content='3. 법인\\n   4. 외국법인인 국내접점 또는 국내영업소(出張所, 그 밖에 이에 준하는 것을 포함한다. 이하 같다)\\n5. 그 밖에 이 법에 의해 정하는 원천징수의무자\\n6. “국세기본법” 제23조제1항에 따른 법인 이 단체 같은 제정에 따른 법인으로 보는 단체(이하 “법인으로 보는 단체”라 한다) 외의 법인 아닌 단체는 국내에 주사무소 또는 사업의 실제적 관리장소를 두는 경우에는 1거주자로 본다.\\n, 그 밖에 각 호의 거주자부에 이 법을 적용한다. 다음 각 호의 어느 하나에 해당하는 경우에도 소득세 부과의 경우에도 법인에 대한 소득세는 법인을 납부할 의무를 진다.<제정 2010. 12. 27, 2013. 1. 1, 2018. 12. 31.>\\n1. 구성이란 이의 명의변경이 정하여져 있지 아니하는 구성원들의 경우의 본법에서의 본법의 내용이 포함된다. 이해 조세에 대한 납부할 의무를 진다.<신설 2018. 12. 31.>')]"
      ]
     },
     "execution_count": 54,
     "metadata": {},
     "output_type": "execute_result"
    }
   ],
   "source": [
    "document_list[:-1]"
   ]
  },
  {
   "cell_type": "code",
   "execution_count": 55,
   "id": "5f04d88e",
   "metadata": {},
   "outputs": [
    {
     "name": "stdout",
     "output_type": "stream",
     "text": [
      "Note: you may need to restart the kernel to use updated packages.\n"
     ]
    }
   ],
   "source": [
    "%pip install -q langchain-chroma"
   ]
  },
  {
   "cell_type": "markdown",
   "id": "9ba27e32",
   "metadata": {},
   "source": [
    "전처리된 데이터를 벡터화하기 위해 Chroma를 활용"
   ]
  },
  {
   "cell_type": "code",
   "execution_count": 56,
   "id": "c06fdbeb",
   "metadata": {},
   "outputs": [],
   "source": [
    "from langchain_openai import OpenAIEmbeddings\n",
    "\n",
    "embeddings = OpenAIEmbeddings(model=\"text-embedding-3-large\")"
   ]
  },
  {
   "cell_type": "code",
   "execution_count": 57,
   "id": "e99d2d2f",
   "metadata": {},
   "outputs": [],
   "source": [
    "from langchain_chroma import Chroma\n",
    "\n",
    "vector_store = Chroma.from_documents(\n",
    "    documents=document_list,\n",
    "    embedding=embeddings,\n",
    "    collection_name = 'income_tax_collection',\n",
    "    persist_directory = './income_tax_collection'\n",
    ")"
   ]
  },
  {
   "cell_type": "code",
   "execution_count": 58,
   "id": "f3b02b73",
   "metadata": {},
   "outputs": [],
   "source": [
    "retriever = vector_store.as_retriever(search_kwargs={'k': 3})"
   ]
  },
  {
   "cell_type": "code",
   "execution_count": 59,
   "id": "0fb909c6",
   "metadata": {},
   "outputs": [],
   "source": [
    "query = '연봉 1억원 직장인의 소득세는?'"
   ]
  },
  {
   "cell_type": "code",
   "execution_count": 60,
   "id": "0493448d",
   "metadata": {},
   "outputs": [
    {
     "data": {
      "text/plain": [
       "[Document(metadata={'source': './documents/income_tax.txt'}, page_content='소득세법\\n[시행 2025. 1. 1.] [법률 제20615호, 2024. 12. 31., 일반개정]\\n기획재정부 (세제실세제과) 044-215-4312\\n기획재정부 (소득세제과) 044-215-4216\\n기획재정부 (유형세제과) 044-215-4233\\n기획재정부 (소득세제관리과) 044-215-4217  \\n제1장 총칙\\n제정 2009. 12. 31.\\n제2조(정의)\\n이 법은 개인의 소득에 대하여 소득의 성격과 납세자의 부담능력 등에 따라 적정하게 과세함으로써 세부담의 형평을 도모하고 재정수입의 원활한 조달에 이바지함을 목적으로 한다.\\n[본조신설 2009. 12. 31.]\\n[종전 제1조는 제2조로 이동 <2009. 12. 31.>]  \\n제2조(용어의 정의)\\n① 이 법에서 사용하는 용어의 뜻은 다음과 같다. <개정 2010. 12. 27, 2014. 12. 23, 2018. 12. 31.>\\n1. “거주자”란 국내에 주소를 두거나 183일 이상에 해당하는 거소를 두 개인을 말한다.\\n2. “비거주자”란 거주자가 아닌 개인을 말한다.\\n3. “국내법인”이란 법인세법 제2조제1호에 따른 내국법인을 말한다.\\n4. “외국법인”이란 법인세법 제2조제3호에 따른 외국법인을 말한다.\\n5. “사업자”란 사업소의 있는 거주자를 말한다.\\n6. 제1항에 따른 소득·가소득자·비거주자의 구분은 대통령령으로 정한다.\\n[본조신설 2009. 12. 31.]  \\n제2조(납세의무)\\n구분\\n1. 거주자\\n2. 비거주자로서 국내원천소득(國內源泉所得)이 있는 개인\\n3. 다음 각 호의 어느 하나에 해당하는 자는 이 법에 따라 원천징수한 소득세를 납부할 의무를 진다.\\n   1. 거주자\\n   2. 비거주자\\n   3. 법인\\n   4. 외국법인인 국내접점 또는 국내영업소(出張所, 그 밖에 이에 준하는 것을 포함한다. 이하 같다)\\n5. 그 밖에 이 법에 의해 정하는 원천징수의무자'),\n",
       " Document(metadata={'source': './documents/income_tax.txt'}, page_content='소득세법\\n[시행 2025. 1. 1.] [법률 제20615호, 2024. 12. 31. 공포개정]\\n기획재정부 (세제실세제과) 044-215-4312\\n기획재정부 (소득세제과) 044-215-4216\\n기획재정부 (운영지원과) 044-215-4233\\n기획재정부 (소득세제과(사업소득, 기타소득)) 044-215-4217  \\n제1장 총칙\\n제1조(목적)\\n이 법은 개인의 소득에 대하여 소득의 성격과 납세자의 부담능력 등에 따라 적정하고 공평한 조세부담의 형성을 도모하고 재정수입의 원활한 조달에 이바지함을 목적으로 한다.\\n[본조신설 2009. 12. 31.]\\n[종전 제1조는 제2조로 이동 <2009. 12. 31.>]\\n제2조(정의)\\n이 법에서 사용하는 용어의 뜻은 다음과 같다. <개정 2010. 12. 27, 2014. 12. 23, 2018. 12. 31.>\\n1. “거주자”란 국내에 주소를 두거나 183일 이상 거소를 둔 개인을 말한다.\\n2. “비거주자”란 거주자가 아닌 개인을 말한다.\\n3. “국내사업자”란 법인세법 제2조제1호에 따른 내국법인을 말한다.\\n4. “외국법인”이란 법인세법 제2조제3호에 따른 외국법인을 말한다.\\n5. “사업자”란 사업소득이 있는 거주자를 말한다.\\n6. 제1항에 따른 소득·기타소득·비거주자의 구분은 대통령령으로 정한다.\\n[본조신설 2009. 12. 31.]\\n제3조(납세의무)\\n다음 각 호의 어느 하나에 해당하는 개인은 이 법에 따라 각자의 소득에 대한 소득세를 납부할 의무를 진다.\\n1. 거주자\\n2. 비거주자\\n3. 국내사업자\\n4. 외국법인이 국내에 사업장을(출처소, 그 밖에 이에 준하는 것을 포함한다. 이하 같다) 두고 있는 경우에 해당하는 원천징수의무자\\n5. 그 밖에 이 법에 의해 정하는 원천징수의무자'),\n",
       " Document(metadata={'source': './documents/income_tax.txt'}, page_content='소득세법\\n[시행 2025. 1. 1.] [법률 제20615호, 2024. 12. 31., 일부개정]\\n기획재정부 (새시대세금과) 044-215-4312\\n기획재정부 (소득세과) 044-215-4216\\n기획재정부 (은행세제과) 044-215-4233\\n기획재정부 (소득세과(사남소득, 기타소득)) 044-215-4217')]"
      ]
     },
     "execution_count": 60,
     "metadata": {},
     "output_type": "execute_result"
    }
   ],
   "source": [
    "retriever.invoke(query)"
   ]
  },
  {
   "cell_type": "markdown",
   "id": "298fc4fd",
   "metadata": {},
   "source": [
    "LangChain + Chroma를 이용해서 문서를 임베딩하고, 벡터 DB에 저장한 뒤, 리트리버를 만들어서 질문에 답할 수 있는 구조(RAG 파이프라인)\n",
    "데이터 → 임베딩 → Chroma 저장 → 리트리버 → 질의응답"
   ]
  },
  {
   "cell_type": "code",
   "execution_count": 61,
   "id": "619d8dd2",
   "metadata": {},
   "outputs": [],
   "source": [
    "from typing_extensions import List, TypedDict\n",
    "from langchain_core.documents import Document\n",
    "\n",
    "class AgentState(TypedDict):\n",
    "    query: str\n",
    "    context: List[Document]\n",
    "    answer: str"
   ]
  },
  {
   "cell_type": "code",
   "execution_count": 62,
   "id": "687c8ed9",
   "metadata": {},
   "outputs": [],
   "source": [
    "from langgraph.graph import StateGraph\n",
    "graph_builder = StateGraph(AgentState)"
   ]
  },
  {
   "cell_type": "code",
   "execution_count": 63,
   "id": "72051411",
   "metadata": {},
   "outputs": [],
   "source": [
    "def retrieve(state: AgentState) -> AgentState:\n",
    "    \"\"\"\n",
    "    사용자의 질문에 기반하여 벡터 스토어에서 관련 문서를 검색\n",
    "\n",
    "    Args:\n",
    "        state (AgentState): 사용자의 질문을 포함한 에이전트의 현재 state.\n",
    "\n",
    "    Returns:\n",
    "        AgentState: 검색된 문서가 추가된 state를 반환합니다.\n",
    "    \"\"\"\n",
    "    query = state['query']  # state에서 사용자의 질문을 추출\n",
    "    docs = retriever.invoke(query)  # 질문과 관련된 문서를 검색\n",
    "    return {'context': docs}  # 검색된 문서를 포함한 state를 반환"
   ]
  },
  {
   "cell_type": "markdown",
   "id": "4ab8ec9f",
   "metadata": {},
   "source": [
    "LangChain → LLM(대형 언어 모델)을 앱에 붙이는 파이프라인·도구 모음 프레임워크\n",
    "LangGraph → LangChain 위에서 워크플로우를 그래프(노드/엣지) 형태로 짜는 실행 엔진\n",
    "LangSmith → LLM 앱의 프롬프트/실행을 관리·로그·평가하는 관찰(Observability) 플랫폼\n",
    "\n",
    "- LangChain은 도구함, LangGraph는 조립 설명서, LangSmith는 성능 점검·테스트장\n",
    "\n",
    "https://smith.langchain.com/hub/rlm/rag-prompt <- 프롬프트는 직접 짜지말고 이거 써라!\n",
    "\n",
    "LangSmith 프롬프트를 쓰라는 건 “효율성 + 재사용성 + 추적 가능성” 때문\n",
    "직접 짠 ad-hoc 프롬프트 대신 LangSmith에 등록된 것을 쓰면, 팀이 협업할 때도 안정적이고, 실험·평가도 손쉽게 할 수 있다"
   ]
  },
  {
   "cell_type": "code",
   "execution_count": 64,
   "id": "7e7c88c7",
   "metadata": {},
   "outputs": [
    {
     "name": "stdout",
     "output_type": "stream",
     "text": [
      "sk-p ...\n",
      "lsv ...\n"
     ]
    }
   ],
   "source": [
    "import os\n",
    "\n",
    "print(os.getenv(\"OPENAI_API_KEY\")[:4], \"...\")\n",
    "print(os.getenv(\"LANGSMITH_API_KEY\")[:3], \"...\")"
   ]
  },
  {
   "cell_type": "code",
   "execution_count": 65,
   "id": "3f5d78bb",
   "metadata": {},
   "outputs": [],
   "source": [
    "from langchain import hub\n",
    "from langchain_openai import ChatOpenAI\n",
    "prompt = hub.pull(\"rlm/rag-prompt\")\n",
    "llm = ChatOpenAI(model='gpt-4o')"
   ]
  },
  {
   "cell_type": "code",
   "execution_count": 66,
   "id": "130bb758",
   "metadata": {},
   "outputs": [],
   "source": [
    "def generate(state: AgentState) -> AgentState:\n",
    "    \"\"\"\n",
    "    사용자의 질문과 검색된 문서를 기반으로 응답을 생성\n",
    "\n",
    "    Args:\n",
    "        state (AgentState): 사용자의 질문과 검색된 문서를 포함한 에이전트의 현재 state.\n",
    "\n",
    "    Returns:\n",
    "        AgentState: 생성된 응답이 추가된 state를 반환\n",
    "    \"\"\"\n",
    "    context = state['context']  # state에서 검색된 문서를 추출\n",
    "    query = state['query']  # state에서 사용자의 질문을 추출\n",
    "    rag_chain = prompt | llm  # RAG 프롬프트와 LLM을 연결하여 체인을 만듦\n",
    "    response = rag_chain.invoke({'question': query, 'context': context})  # 질문과 문맥을 사용하여 응답을 생성\n",
    "    return {'answer': response}  # 생성된 응답을 포함한 state를 반환"
   ]
  },
  {
   "cell_type": "code",
   "execution_count": 67,
   "id": "3c27167f",
   "metadata": {},
   "outputs": [
    {
     "data": {
      "text/plain": [
       "<langgraph.graph.state.StateGraph at 0x135946210>"
      ]
     },
     "execution_count": 67,
     "metadata": {},
     "output_type": "execute_result"
    }
   ],
   "source": [
    "graph_builder.add_node('retrieve', retrieve)\n",
    "graph_builder.add_node('generate', generate)"
   ]
  },
  {
   "cell_type": "code",
   "execution_count": 68,
   "id": "0cf296ec",
   "metadata": {},
   "outputs": [
    {
     "data": {
      "text/plain": [
       "<langgraph.graph.state.StateGraph at 0x135946210>"
      ]
     },
     "execution_count": 68,
     "metadata": {},
     "output_type": "execute_result"
    }
   ],
   "source": [
    "from langgraph.graph import START, END\n",
    "\n",
    "graph_builder.add_edge(START, 'retrieve')\n",
    "graph_builder.add_edge('retrieve', 'generate')\n",
    "graph_builder.add_edge('generate', END)"
   ]
  },
  {
   "cell_type": "code",
   "execution_count": 69,
   "id": "2ef5b9be",
   "metadata": {},
   "outputs": [],
   "source": [
    "graph = graph_builder.compile()"
   ]
  },
  {
   "cell_type": "code",
   "execution_count": 70,
   "id": "7d9c1705",
   "metadata": {},
   "outputs": [
    {
     "data": {
      "image/png": "[encoded data removed]",
      "text/plain": [
       "<IPython.core.display.Image object>"
      ]
     },
     "metadata": {},
     "output_type": "display_data"
    }
   ],
   "source": [
    "from IPython.display import Image, display\n",
    "\n",
    "display(Image(graph.get_graph().draw_mermaid_png()))"
   ]
  },
  {
   "cell_type": "code",
   "execution_count": 71,
   "id": "cd180d8a",
   "metadata": {},
   "outputs": [],
   "source": [
    "sequence_graph_builder = StateGraph(AgentState).add_sequence([retrieve, generate])"
   ]
  },
  {
   "cell_type": "code",
   "execution_count": 72,
   "id": "540b3a52",
   "metadata": {},
   "outputs": [
    {
     "data": {
      "text/plain": [
       "<langgraph.graph.state.StateGraph at 0x13aee5480>"
      ]
     },
     "execution_count": 72,
     "metadata": {},
     "output_type": "execute_result"
    }
   ],
   "source": [
    "sequence_graph_builder.add_edge(START, 'retrieve')\n",
    "sequence_graph_builder.add_edge('generate', END)"
   ]
  },
  {
   "cell_type": "markdown",
   "id": "0e5b021b",
   "metadata": {},
   "source": [
    "병렬처리나 conditional_edge가 없는 경우 add_sequence()를 통해 순차적으로 동작하는 그래프를 생성할 수 있음."
   ]
  },
  {
   "cell_type": "code",
   "execution_count": 73,
   "id": "c1213fe5",
   "metadata": {},
   "outputs": [],
   "source": [
    "sequence_graph = sequence_graph_builder.compile()"
   ]
  },
  {
   "cell_type": "code",
   "execution_count": 36,
   "id": "011b10aa",
   "metadata": {},
   "outputs": [
    {
     "data": {
      "image/png": "[encoded data removed]",
      "text/plain": [
       "<IPython.core.display.Image object>"
      ]
     },
     "metadata": {},
     "output_type": "display_data"
    }
   ],
   "source": [
    "display(Image(sequence_graph.get_graph().draw_mermaid_png()))"
   ]
  },
  {
   "cell_type": "code",
   "execution_count": 37,
   "id": "b18efd21",
   "metadata": {},
   "outputs": [
    {
     "data": {
      "text/plain": [
       "{'query': '연봉 1억원 직장인의 소득세는?',\n",
       " 'context': [Document(metadata={'source': './documents/income_tax.txt'}, page_content='소득세법\\n[시행 2025. 1. 1.] [법률 제20615호, 2024. 12. 31. 공포개정]\\n기획재정부 (세제실세제과) 044-215-4312\\n기획재정부 (소득세제과) 044-215-4216\\n기획재정부 (운영지원과) 044-215-4233\\n기획재정부 (소득세제과(사업소득, 기타소득)) 044-215-4217  \\n제1장 총칙\\n제1조(목적)\\n이 법은 개인의 소득에 대하여 소득의 성격과 납세자의 부담능력 등에 따라 적정하고 공평한 조세부담의 형성을 도모하고 재정수입의 원활한 조달에 이바지함을 목적으로 한다.\\n[본조신설 2009. 12. 31.]\\n[종전 제1조는 제2조로 이동 <2009. 12. 31.>]\\n제2조(정의)\\n이 법에서 사용하는 용어의 뜻은 다음과 같다. <개정 2010. 12. 27, 2014. 12. 23, 2018. 12. 31.>\\n1. “거주자”란 국내에 주소를 두거나 183일 이상 거소를 둔 개인을 말한다.\\n2. “비거주자”란 거주자가 아닌 개인을 말한다.\\n3. “국내사업자”란 법인세법 제2조제1호에 따른 내국법인을 말한다.\\n4. “외국법인”이란 법인세법 제2조제3호에 따른 외국법인을 말한다.\\n5. “사업자”란 사업소득이 있는 거주자를 말한다.\\n6. 제1항에 따른 소득·기타소득·비거주자의 구분은 대통령령으로 정한다.\\n[본조신설 2009. 12. 31.]\\n제3조(납세의무)\\n다음 각 호의 어느 하나에 해당하는 개인은 이 법에 따라 각자의 소득에 대한 소득세를 납부할 의무를 진다.\\n1. 거주자\\n2. 비거주자\\n3. 국내사업자\\n4. 외국법인이 국내에 사업장을(출처소, 그 밖에 이에 준하는 것을 포함한다. 이하 같다) 두고 있는 경우에 해당하는 원천징수의무자\\n5. 그 밖에 이 법에 의해 정하는 원천징수의무자'),\n",
       "  Document(metadata={'source': './documents/income_tax.txt'}, page_content='소득세법\\n[시행 2025. 1. 1.] [법률 제20615호, 2024. 12. 31., 일부개정]\\n기획재정부 (새시대세금과) 044-215-4312\\n기획재정부 (소득세과) 044-215-4216\\n기획재정부 (은행세제과) 044-215-4233\\n기획재정부 (소득세과(사남소득, 기타소득)) 044-215-4217'),\n",
       "  Document(metadata={'source': './documents/income_tax.txt'}, page_content='제1장 총칙\\n제1조(목적)\\n이 법은 개인의 소득에 대하여 소득의 성격과 납세자의 부담능력 등에 따라 적정하게 과세함으로써 과세부담의 형평을 도모하고 재정수입의 원활한 조달에 이바지함을 목적으로 한다.\\n[본조신설 2009. 12. 31.]\\n[종전 제1조는 제2조로 이동 <2009. 12. 31.>]\\n제2조(정의)\\n① 이 법에 사용되는 용어의 뜻은 다음과 같다. <개정 2010. 12. 27, 2014. 12. 23, 2018. 12. 31.>\\n1. “거주자”라 함은 국내에 주소를 두거나 183일 이상의 거소(居所)를 둔 개인을 말한다.\\n2. “비거주자”라 함은 거주자가 아닌 개인을 말한다.\\n3. “국내법인”이란 법인세법 제2조제1호에 따른 내국법인을 말한다.\\n4. “외국법인”이란 법인세법 제2조제3호에 따른 외국법인을 말한다.\\n5. “사업자”란 사업소득이 있는 거주자를 말한다.\\n6. 제1항에 따른 소득·가사업자·비거주자의 구분은 대통령령으로 정한다.\\n[본조신설 2009. 12. 31.]\\n제3조(납세의무)\\n次는 각 호의 어느 하나에 해당하는 개인이 이 법에 따라 각자의 소득에 대한 소득세를 납부할 의무를 진다.\\n1. 거주자\\n2. 비거주자로서 국내원천소득(國內來源所得)이 있는 개인\\n3. 다음 각 호의 어느 하나에 해당하는 자는 이 법에 따라 원천징수한 소득세를 납부할 의무를 진다.\\n1. 거주자\\n2. 비거주자\\n3. 납세의무자\\n4. 외국법인이 국내사업장(출처소, 그 밖에 이에 준하는 것을 포함한다. 이하 같다)\\n5. 그 밖에 이 법에 의해 정하는 원천징수의무자\\n3. “국세기본법 제32조제1항에 따른 법인이 다른 단체 같은 제척업체에 따른 법인으로 보는 단체”란 “법인으로 보는 단체”를 한하며, 외의 법인이 단체로서 국내에 주소 또는 사업의 실질적 관리장소를 둔 경우에는 거주자로 본다.\\n다음 각 호의 어느 하나에 해당하는 경우에는 소득구분 외의 법인에 대한 각 구성원별로 이 법 단체별로 소득세를 법인에 납부할 의무를 진다.')],\n",
       " 'answer': AIMessage(content='해당 문서에는 연봉 1억원인 직장인의 정확한 소득세 금액에 대한 정보가 포함되어 있지 않습니다. 소득세는 소득의 규모와 구조에 따라 다를 수 있으며, 정확한 세율은 세법의 기준에 따라 계산되어야 합니다. 연봉 1억원 직장인의 소득세 계산을 위해서는 최신 세율표나 세무 상담을 참조하는 것이 필요합니다.', additional_kwargs={'refusal': None}, response_metadata={'token_usage': {'completion_tokens': 95, 'prompt_tokens': 1515, 'total_tokens': 1610, 'completion_tokens_details': {'accepted_prediction_tokens': 0, 'audio_tokens': 0, 'reasoning_tokens': 0, 'rejected_prediction_tokens': 0}, 'prompt_tokens_details': {'audio_tokens': 0, 'cached_tokens': 0}}, 'model_name': 'gpt-4o-2024-08-06', 'system_fingerprint': 'fp_df0f7b956c', 'id': 'chatcmpl-CAqc5j4YvEb5noGO9Dg8VwujkwQYI', 'service_tier': 'default', 'finish_reason': 'stop', 'logprobs': None}, id='run--d1018088-a90e-4bdc-9430-6e3d7daa4c49-0', usage_metadata={'input_tokens': 1515, 'output_tokens': 95, 'total_tokens': 1610, 'input_token_details': {'audio': 0, 'cache_read': 0}, 'output_token_details': {'audio': 0, 'reasoning': 0}})}"
      ]
     },
     "execution_count": 37,
     "metadata": {},
     "output_type": "execute_result"
    }
   ],
   "source": [
    "initial_state = {'query': query}\n",
    "graph.invoke(initial_state)"
   ]
  },
  {
   "cell_type": "markdown",
   "id": "8f467d20",
   "metadata": {},
   "source": [
    "'해당 문서에는 연봉 1억원인 직장인의 정확한 소득세 금액에 대한 정보가 포함되어 있지 않습니다' 라고 되어있잖아.\n",
    "\n",
    "사용자 질문이 애매할 때, 리트리버 효율을 높이기 위해 질문을 중간에서 가공(릴레이/리프레이즈)한 뒤 다시 검색하는 로직을 그래프 단계로 만들자!!"
   ]
  }
 ],
 "metadata": {
  "kernelspec": {
   "display_name": ".venv",
   "language": "python",
   "name": "python3"
  },
  "language_info": {
   "codemirror_mode": {
    "name": "ipython",
    "version": 3
   },
   "file_extension": ".py",
   "mimetype": "text/x-python",
   "name": "python",
   "nbconvert_exporter": "python",
   "pygments_lexer": "ipython3",
   "version": "3.13.2"
  }
 },
 "nbformat": 4,
 "nbformat_minor": 5
}
