{
 "cells": [
  {
   "cell_type": "code",
   "execution_count": 12,
   "id": "98dca474",
   "metadata": {},
   "outputs": [
    {
     "name": "stdout",
     "output_type": "stream",
     "text": [
      "Python 3.13.2\n"
     ]
    }
   ],
   "source": [
    "!python --version"
   ]
  },
  {
   "cell_type": "code",
   "execution_count": 1,
   "id": "4d9f1f5a",
   "metadata": {},
   "outputs": [],
   "source": [
    "from langchain_community.document_loaders import PyPDFLoader\n",
    "\n",
    "pdf_file_path = './documents/income_tax.pdf'\n",
    "loader = PyPDFLoader(pdf_file_path)\n",
    "pages=[]\n",
    "async for page in loader.alazy_load():\n",
    "    pages.append(page)"
   ]
  },
  {
   "cell_type": "code",
   "execution_count": 2,
   "id": "041ccd93",
   "metadata": {},
   "outputs": [
    {
     "data": {
      "text/plain": [
       "Document(metadata={'producer': 'iText 2.1.7 by 1T3XT', 'creator': 'PyPDF', 'creationdate': '2025-01-10T10:55:01+09:00', 'moddate': '2025-01-10T10:55:01+09:00', 'source': './documents/income_tax.pdf', 'total_pages': 133, 'page': 35, 'page_label': '36'}, page_content='법제처                                                            36                                                       국가법령정보센터\\n소득세법\\n② 거주자의 퇴직소득에 대한 소득세는 다음 각 호의 순서에 따라 계산한 금액(이하 “퇴직소득 산출세액”이라 한다\\n)으로 한다.<개정 2013. 1. 1., 2014. 12. 23.>\\n1. 해당 과세기간의 퇴직소득과세표준에 제1항의 세율을 적용하여 계산한 금액\\n2. 제1호의 금액을 12로 나눈 금액에 근속연수를 곱한 금액\\n3. 삭제<2014. 12. 23.>\\n[전문개정 2009. 12. 31.]\\n \\n           제2관 세액공제 <개정 2009. 12. 31.>\\n \\n제56조(배당세액공제) ① 거주자의 종합소득금액에 제17조제3항 각 호 외의 부분 단서가 적용되는 배당소득금액이 합\\n산되어 있는 경우에는 같은 항 각 호 외의 부분 단서에 따라 해당 과세기간의 총수입금액에 더한 금액에 해당하는\\n금액을 종합소득 산출세액에서 공제한다. <개정 2009. 12. 31.>\\n② 제1항에 따른 공제를 “배당세액공제”라 한다.<개정 2009. 12. 31.>\\n③ 삭제<2003. 12. 30.>\\n④ 제1항을 적용할 때 배당세액공제의 대상이 되는 배당소득금액은 제14조제2항의 종합소득과세표준에 포함된 배\\n당소득금액으로서 이자소득등의 종합과세기준금액을 초과하는 것으로 한다.<개정 2009. 12. 31.>\\n⑤ 삭제<2006. 12. 30.>\\n⑥ 배당세액공제액의 계산 등에 필요한 사항은 대통령령으로 정한다.<개정 2009. 12. 31.>\\n[제목개정 2009. 12. 31.]\\n \\n제56조의2(기장세액공제) ① 제160조제3항에 따른 간편장부대상자가 제70조 또는 제74조에 따른 과세표준확정신고를\\n할 때 복식부기에 따라 기장(記帳)하여 소득금액을 계산하고 제70조제4항제3호에 따른 서류를 제출하는 경우에는\\n해당 장부에 의하여 계산한 사업소득금액이 종합소득금액에서 차지하는 비율을 종합소득 산출세액에 곱하여 계산한\\n금액의 100분의 20에 해당하는 금액을 종합소득 산출세액에서 공제한다. 다만, 공제세액이 100만원을 초과하는 경\\n우에는 100만원을 공제한다.\\n② 다음 각 호의 어느 하나에 해당하는 경우에는 제1항에 따른 공제[이하 “기장세액공제”(記帳稅額控除)라 한다]를\\n적용하지 아니한다.\\n1. 비치ㆍ기록한 장부에 의하여 신고하여야 할 소득금액의 100분의 20 이상을 누락하여 신고한 경우\\n2. 기장세액공제와 관련된 장부 및 증명서류를 해당 과세표준확정신고기간 종료일부터 5년간 보관하지 아니한 경\\n우. 다만, 천재지변 등 대통령령으로 정하는 부득이한 사유에 해당하는 경우에는 그러하지 아니하다.\\n③ 기장세액공제에 관하여 필요한 사항은 대통령령으로 정한다.\\n[전문개정 2009. 12. 31.]\\n \\n제56조의3(전자계산서 발급 전송에 대한 세액공제) ① 총수입금액 등을 고려하여 대통령령으로 정하는 사업자가 제\\n163조제1항 후단에 따른 전자계산서를 2027년 12월 31일까지 발급(제163조제8항에 따라 전자계산서 발급명세를\\n국세청장에게 전송하는 경우로 한정한다)하는 경우에는 전자계산서 발급 건수 등을 고려하여 대통령령으로 정하는\\n금액을 해당 과세기간의 사업소득에 대한 종합소득산출세액에서 공제할 수 있다. 이 경우 공제한도는 연간 100만원\\n으로 한다. <개정 2021. 12. 8., 2024. 12. 31.>\\n② 제1항에 따른 세액공제를 적용받으려는 사업자는 제70조 또는 제74조에 따른 과세표준확정신고를 할 때 기획재\\n정부령으로 정하는 전자계산서 발급 세액공제신고서를 납세지 관할 세무서장에게 제출하여야 한다.\\n[본조신설 2014. 12. 23.]\\n \\n제57조(외국납부세액공제) ① 거주자의 종합소득금액 또는 퇴직소득금액에 국외원천소득이 합산되어 있는 경우로서\\n그 국외원천소득에 대하여 외국에서 대통령령으로 정하는 외국소득세액(이하 이 조에서 “외국소득세액”이라 한다)을\\n납부하였거나 납부할 것이 있을 때에는 다음 계산식에 따라 계산한 금액(이하 이 조에서 “공제한도금액”이라 한다)')"
      ]
     },
     "execution_count": 2,
     "metadata": {},
     "output_type": "execute_result"
    }
   ],
   "source": [
    "pages[35]"
   ]
  },
  {
   "cell_type": "markdown",
   "id": "74b6d29f",
   "metadata": {},
   "source": [
    "- Install the [py-zerox](https://www.piwheels.org/project/py-zerox/) package for data preprocessing"
   ]
  },
  {
   "cell_type": "code",
   "execution_count": 8,
   "id": "faeb2130",
   "metadata": {},
   "outputs": [
    {
     "name": "stdout",
     "output_type": "stream",
     "text": [
      "Note: you may need to restart the kernel to use updated packages.\n"
     ]
    }
   ],
   "source": [
    "%pip install -q py-zerox"
   ]
  },
  {
   "cell_type": "code",
   "execution_count": 3,
   "id": "5f20c7dc",
   "metadata": {},
   "outputs": [
    {
     "data": {
      "text/plain": [
       "True"
      ]
     },
     "execution_count": 3,
     "metadata": {},
     "output_type": "execute_result"
    }
   ],
   "source": [
    "from dotenv import load_dotenv\n",
    "\n",
    "load_dotenv()\n",
    "\n"
   ]
  },
  {
   "cell_type": "code",
   "execution_count": 9,
   "id": "49b46b0d",
   "metadata": {},
   "outputs": [
    {
     "name": "stdout",
     "output_type": "stream",
     "text": [
      "Note: you may need to restart the kernel to use updated packages.\n"
     ]
    }
   ],
   "source": [
    "%pip install -q nest_asyncio"
   ]
  },
  {
   "cell_type": "code",
   "execution_count": 4,
   "id": "5efac486",
   "metadata": {},
   "outputs": [],
   "source": [
    "import nest_asyncio\n",
    "nest_asyncio.apply()"
   ]
  },
  {
   "cell_type": "code",
   "execution_count": 5,
   "id": "85df6533",
   "metadata": {},
   "outputs": [
    {
     "name": "stdout",
     "output_type": "stream",
     "text": [
      "pdfinfo -> /opt/homebrew/bin/pdfinfo\n",
      "pdftoppm -> /opt/homebrew/bin/pdftoppm\n"
     ]
    }
   ],
   "source": [
    "import os, shutil\n",
    "\n",
    "# Jupyter 커널 PATH 보강\n",
    "os.environ[\"PATH\"] = \"/opt/homebrew/bin:/opt/homebrew/opt/poppler/bin:\" + os.environ[\"PATH\"]\n",
    "\n",
    "print(\"pdfinfo ->\", shutil.which(\"pdfinfo\"))\n",
    "print(\"pdftoppm ->\", shutil.which(\"pdftoppm\"))\n"
   ]
  },
  {
   "cell_type": "code",
   "execution_count": 6,
   "id": "719e3a79",
   "metadata": {},
   "outputs": [
    {
     "name": "stderr",
     "output_type": "stream",
     "text": [
      "/Users/hyeyeonkim/MayLangChainLangGraphMCP/.venv/lib/python3.13/site-packages/pydantic/_internal/_config.py:341: UserWarning: Valid config keys have changed in V2:\n",
      "* 'fields' has been removed\n",
      "  warnings.warn(message, UserWarning)\n"
     ]
    },
    {
     "name": "stdout",
     "output_type": "stream",
     "text": [
      "ZeroxOutput(completion_time=20773.273, file_name='income_tax', input_tokens=36877, output_tokens=850, pages=[Page(content='# 소득세법\\n\\n[시행 2025. 1. 1.] [법률 제20615호, 2024. 12. 31., 일부개정]\\n기획재정부 (세제실/개인소득세) 044-215-4312\\n기획재정부 (소득세과/법인소득) 044-215-4216\\n기획재정부 (음식세제과/카지노소득) 044-215-4233\\n기획재정부 (소득세제과/사업소득, 기타소득) 044-215-4217\\n\\n## 제1장 총칙\\n\\n### 제1조(목적)\\n이 법은 개인의 소득에 대하여 소득의 성격과 납세자의 부담능력 등에 따라 적정하게 과세함으로써 재정수입의 원활한 조달에 이바지함을 목적으로 한다.\\n[본조신설 2009. 12. 31.]\\n[종전 제1조는 제2조로 이동 <2009. 12. 31.>]\\n\\n### 제2조(정의) \\n① 이 법에서 사용하는 용어의 뜻은 다음과 같다. <개정 2010. 12. 27, 2014. 12. 23, 2018. 12. 31.>\\n1. “거주자”란 국내에 주소를 두거나 183일 이상 거소(居所)를 둔 개인을 말한다.\\n2. “비거주자”란 거주자가 아닌 개인을 말한다.\\n3. “국내거주”란 법인세법 제2조 제1호에 따른 내국법인을 말한다.\\n4. “외국법인”이란 법인세법 제2조 제3호에 따른 외국법인을 말한다.\\n5. “사업자”란 사업소득이 있는 거주자를 말한다.\\n6. 제1항에 따른 소득·과세표준·비거주자의 구분은 대통령령으로 정한다.\\n[본조신설 2009. 12. 31.]\\n\\n### 제2조의2(납세의무)\\n다음 각 호의 어느 하나에 해당하는 개인은 이 법에 따라 각자의 소득에 대한 소득세를 납부할 의무를 진다.\\n1. 거주자\\n2. 비거주자인 경우 원천징수(源泉徵收)에 있는 개인\\n3. 다음 각 호의 어느 하나에 해당하는 자는 이 법에 따라 원천징수한 소득세를 납부할 의무를 진다.\\n1. 거주자\\n2. 비거주자\\n3. 납세의무\\n4. 외국법인에 관한 규정 또는 국내영업소(出張所, 그 밖에 이에 준하는 것을 포함한다. 이하 같다)\\n5. 그 밖에 이 법에 의한 원천징수수익자\\n6. “국세기본법 제33조제1항에 따른 법인은 이 법의 어느 단체와 같은 제척에 따른 법인으로 보는 단체”라는 단체로 한정한다. \\n\\n이 법 제3조에 따른 비거주자는 해당 단체에 의한 단체가 국내에 주사무소 또는 사업의 실질적 관리장소를 둔 경우에는 1거주자로 보는 단체가 된다. \\n이 법 제4조에 따른 거주자는 사업체의 개별 소득세법에 따른 소득세 법인에 포함된다. 이 조에서 정하는 납부할 의무를 진다.\\n<개정 2010. 12. 27, 2013. 1. 1, 2018. 12. 31.>\\n\\n## 제3장\\n[제정 2010. 12. 27.]', content_length=1262, page=1)])\n"
     ]
    }
   ],
   "source": [
    "from pyzerox import zerox\n",
    "import asyncio\n",
    "\n",
    "kwargs = {}\n",
    "custom_system_prompt = None\n",
    "\n",
    "model = \"gpt-4o-mini\" \n",
    "\n",
    "async def main():\n",
    "    file_path = \"./documents/income_tax.pdf\"\n",
    "    # select_pages = None ## 전체는 None, 특정 페이지는 int 또는 list(int) 페이지 번호 (1부터 시작)\n",
    "    select_pages = [1]\n",
    "\n",
    "    output_dir = \"./documents\"\n",
    "\n",
    "    result = await zerox(file_path=file_path, model=model, output_dir=output_dir,\n",
    "                        custom_system_prompt=custom_system_prompt, select_pages=select_pages, **kwargs)\n",
    "\n",
    "    return result\n",
    "\n",
    "result = asyncio.run(main())\n",
    "print(result)"
   ]
  },
  {
   "cell_type": "code",
   "execution_count": 18,
   "id": "31c44ebb",
   "metadata": {},
   "outputs": [
    {
     "name": "stdout",
     "output_type": "stream",
     "text": [
      "\u001b[31mERROR: pip's dependency resolver does not currently take into account all the packages that are installed. This behaviour is the source of the following dependency conflicts.\n",
      "langchain-community 0.3.27 requires numpy>=2.1.0; python_version >= \"3.13\", but you have numpy 1.26.4 which is incompatible.\u001b[0m\u001b[31m\n",
      "\u001b[0mNote: you may need to restart the kernel to use updated packages.\n"
     ]
    }
   ],
   "source": [
    "# https://github.com/Unstructured-IO: 다양한 문서 파일(PDF, Word, PowerPoint, HTML, 이미지, 이메일 등등)을 텍스트/문단 단위로 쪼개서 추출해주는 오픈소스 라이브러리\n",
    "# unstructured[md]: document parser, [md] → “extra dependency\n",
    "# nltk: Natural Language Toolkit (The oldest and most traditional natural language processing (NLP) library in Python)\n",
    "\n",
    "%pip install -q \"unstructured[md]\" nltk"
   ]
  },
  {
   "cell_type": "markdown",
   "id": "4da4a13f",
   "metadata": {},
   "source": [
    "여기까지 일단 preprocessing 해둠.\n",
    "\n",
    "Poppler → PDF를 이미지·텍스트 블록 단위로 해체  \n",
    "pyzerox → 그 텍스트를 LLM(GPT-4o/mini)에 태워서 마크다운 구조화 텍스트로 변환  \n",
    "unstructured나 nltk 같은 라이브러리로 더 잘게 쪼개서 토큰화/분석 준비"
   ]
  },
  {
   "cell_type": "code",
   "execution_count": null,
   "id": "7c304b93",
   "metadata": {},
   "outputs": [],
   "source": [
    "from langchain_text_splitters import RecursiveCharacterTextSplitter\n",
    "\n",
    "text_splitter = RecursiveCharacterTextSplitter(\n",
    "    chunk_size=1000,\n",
    "    chunk_overlap=100,\n",
    "    separators=[\"\\n\\n\", \"\\n\", \" \", \"\"]\n",
    ")\n",
    "\n",
    "# 한 청크에 최대 크기 1000자 제한, 겹치는 부분 100자 이내로, 어디서 자를 지 -> separators (문단 > 줄바꿈 > 단어 > 글자)"
   ]
  },
  {
   "cell_type": "code",
   "execution_count": 10,
   "id": "45131fdb",
   "metadata": {},
   "outputs": [],
   "source": [
    "from langchain_community.document_loaders import UnstructuredMarkdownLoader\n",
    "\n",
    "markdown_path = \"./documents/income_tax.md\"\n",
    "loader = UnstructuredMarkdownLoader(markdown_path)\n",
    "document_list = loader.load_and_split(text_splitter)"
   ]
  },
  {
   "cell_type": "code",
   "execution_count": 14,
   "id": "e1d1b613",
   "metadata": {},
   "outputs": [
    {
     "data": {
      "text/plain": [
       "[Document(metadata={'source': './documents/income_tax.md'}, page_content='소득세법\\n\\n[시행 2025. 1. 1.] [법률 제20615호, 2024. 12. 31., 일부개정] 기획재정부 (세제실/개인소득세) 044-215-4312 기획재정부 (소득세과/법인소득) 044-215-4216 기획재정부 (음식세제과/카지노소득) 044-215-4233 기획재정부 (소득세제과/사업소득, 기타소득) 044-215-4217\\n\\n제1장 총칙\\n\\n제1조(목적)\\n\\n이 법은 개인의 소득에 대하여 소득의 성격과 납세자의 부담능력 등에 따라 적정하게 과세함으로써 재정수입의 원활한 조달에 이바지함을 목적으로 한다. [본조신설 2009. 12. 31.] [종전 제1조는 제2조로 이동 <2009. 12. 31.>]\\n\\n제2조(정의)\\n\\n① 이 법에서 사용하는 용어의 뜻은 다음과 같다. <개정 2010. 12. 27, 2014. 12. 23, 2018. 12. 31.> 1. “거주자”란 국내에 주소를 두거나 183일 이상 거소(居所)를 둔 개인을 말한다. 2. “비거주자”란 거주자가 아닌 개인을 말한다. 3. “국내거주”란 법인세법 제2조 제1호에 따른 내국법인을 말한다. 4. “외국법인”이란 법인세법 제2조 제3호에 따른 외국법인을 말한다. 5. “사업자”란 사업소득이 있는 거주자를 말한다. 6. 제1항에 따른 소득·과세표준·비거주자의 구분은 대통령령으로 정한다. [본조신설 2009. 12. 31.]\\n\\n제2조의2(납세의무)'),\n",
       " Document(metadata={'source': './documents/income_tax.md'}, page_content='제2조의2(납세의무)\\n\\n다음 각 호의 어느 하나에 해당하는 개인은 이 법에 따라 각자의 소득에 대한 소득세를 납부할 의무를 진다. 1. 거주자 2. 비거주자인 경우 원천징수(源泉徵收)에 있는 개인 3. 다음 각 호의 어느 하나에 해당하는 자는 이 법에 따라 원천징수한 소득세를 납부할 의무를 진다. 1. 거주자 2. 비거주자 3. 납세의무 4. 외국법인에 관한 규정 또는 국내영업소(出張所, 그 밖에 이에 준하는 것을 포함한다. 이하 같다) 5. 그 밖에 이 법에 의한 원천징수수익자 6. “국세기본법 제33조제1항에 따른 법인은 이 법의 어느 단체와 같은 제척에 따른 법인으로 보는 단체”라는 단체로 한정한다.\\n\\n이 법 제3조에 따른 비거주자는 해당 단체에 의한 단체가 국내에 주사무소 또는 사업의 실질적 관리장소를 둔 경우에는 1거주자로 보는 단체가 된다. 이 법 제4조에 따른 거주자는 사업체의 개별 소득세법에 따른 소득세 법인에 포함된다. 이 조에서 정하는 납부할 의무를 진다. <개정 2010. 12. 27, 2013. 1. 1, 2018. 12. 31.>\\n\\n제3장\\n\\n[제정 2010. 12. 27.]')]"
      ]
     },
     "execution_count": 14,
     "metadata": {},
     "output_type": "execute_result"
    }
   ],
   "source": [
    "document_list[:5]\n"
   ]
  },
  {
   "cell_type": "code",
   "execution_count": 15,
   "id": "a6658dae",
   "metadata": {},
   "outputs": [
    {
     "name": "stdout",
     "output_type": "stream",
     "text": [
      "Note: you may need to restart the kernel to use updated packages.\n"
     ]
    }
   ],
   "source": [
    "%pip install -q markdown html2text beautifulsoup4"
   ]
  },
  {
   "cell_type": "code",
   "execution_count": 16,
   "id": "a2db0e46",
   "metadata": {},
   "outputs": [
    {
     "name": "stdout",
     "output_type": "stream",
     "text": [
      "Markdown converted to plain text successfully.\n"
     ]
    }
   ],
   "source": [
    "import markdown\n",
    "from bs4 import BeautifulSoup\n",
    "\n",
    "text_path = \"./documents/income_tax.txt\"\n",
    "\n",
    "# read the MD\n",
    "with open(markdown_path, \"r\", encoding=\"utf-8\") as md_file:\n",
    "    md_content = md_file.read()\n",
    "\n",
    "# Convert md content to HTML\n",
    "html_content = markdown.markdown(md_content)\n",
    "\n",
    "# Parsing\n",
    "soup = BeautifulSoup(html_content, \"html.parser\")\n",
    "text = soup.get_text()\n",
    "\n",
    "# Save the text content to a .txt file\n",
    "with open(text_path, \"w\", encoding=\"utf-8\") as text_file:\n",
    "    text_file.write(text)\n",
    "\n",
    "print(\"Markdown converted to plain text successfully.\")\n"
   ]
  },
  {
   "cell_type": "markdown",
   "id": "c9dcf8a1",
   "metadata": {},
   "source": [
    "마크다운 문서를 → HTML로 바꾸고 → HTML 태그를 제거해서 → 순수 텍스트만 남겨서 .txt 파일로 저장하는 작업"
   ]
  }
 ],
 "metadata": {
  "kernelspec": {
   "display_name": ".venv",
   "language": "python",
   "name": "python3"
  },
  "language_info": {
   "codemirror_mode": {
    "name": "ipython",
    "version": 3
   },
   "file_extension": ".py",
   "mimetype": "text/x-python",
   "name": "python",
   "nbconvert_exporter": "python",
   "pygments_lexer": "ipython3",
   "version": "3.13.2"
  }
 },
 "nbformat": 4,
 "nbformat_minor": 5
}
