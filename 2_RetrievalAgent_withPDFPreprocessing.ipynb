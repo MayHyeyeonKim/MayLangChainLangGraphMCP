{
 "cells": [
  {
   "cell_type": "code",
   "execution_count": 12,
   "id": "98dca474",
   "metadata": {},
   "outputs": [
    {
     "name": "stdout",
     "output_type": "stream",
     "text": [
      "Python 3.13.2\n"
     ]
    }
   ],
   "source": [
    "!python --version"
   ]
  },
  {
   "cell_type": "code",
   "execution_count": 1,
   "id": "4d9f1f5a",
   "metadata": {},
   "outputs": [],
   "source": [
    "from langchain_community.document_loaders import PyPDFLoader\n",
    "\n",
    "pdf_file_path = './documents/income_tax.pdf'\n",
    "loader = PyPDFLoader(pdf_file_path)\n",
    "pages=[]\n",
    "async for page in loader.alazy_load():\n",
    "    pages.append(page)"
   ]
  },
  {
   "cell_type": "code",
   "execution_count": 2,
   "id": "041ccd93",
   "metadata": {},
   "outputs": [
    {
     "data": {
      "text/plain": [
       "Document(metadata={'producer': 'iText 2.1.7 by 1T3XT', 'creator': 'PyPDF', 'creationdate': '2025-01-10T10:55:01+09:00', 'moddate': '2025-01-10T10:55:01+09:00', 'source': './documents/income_tax.pdf', 'total_pages': 133, 'page': 35, 'page_label': '36'}, page_content='법제처                                                            36                                                       국가법령정보센터\\n소득세법\\n② 거주자의 퇴직소득에 대한 소득세는 다음 각 호의 순서에 따라 계산한 금액(이하 “퇴직소득 산출세액”이라 한다\\n)으로 한다.<개정 2013. 1. 1., 2014. 12. 23.>\\n1. 해당 과세기간의 퇴직소득과세표준에 제1항의 세율을 적용하여 계산한 금액\\n2. 제1호의 금액을 12로 나눈 금액에 근속연수를 곱한 금액\\n3. 삭제<2014. 12. 23.>\\n[전문개정 2009. 12. 31.]\\n \\n           제2관 세액공제 <개정 2009. 12. 31.>\\n \\n제56조(배당세액공제) ① 거주자의 종합소득금액에 제17조제3항 각 호 외의 부분 단서가 적용되는 배당소득금액이 합\\n산되어 있는 경우에는 같은 항 각 호 외의 부분 단서에 따라 해당 과세기간의 총수입금액에 더한 금액에 해당하는\\n금액을 종합소득 산출세액에서 공제한다. <개정 2009. 12. 31.>\\n② 제1항에 따른 공제를 “배당세액공제”라 한다.<개정 2009. 12. 31.>\\n③ 삭제<2003. 12. 30.>\\n④ 제1항을 적용할 때 배당세액공제의 대상이 되는 배당소득금액은 제14조제2항의 종합소득과세표준에 포함된 배\\n당소득금액으로서 이자소득등의 종합과세기준금액을 초과하는 것으로 한다.<개정 2009. 12. 31.>\\n⑤ 삭제<2006. 12. 30.>\\n⑥ 배당세액공제액의 계산 등에 필요한 사항은 대통령령으로 정한다.<개정 2009. 12. 31.>\\n[제목개정 2009. 12. 31.]\\n \\n제56조의2(기장세액공제) ① 제160조제3항에 따른 간편장부대상자가 제70조 또는 제74조에 따른 과세표준확정신고를\\n할 때 복식부기에 따라 기장(記帳)하여 소득금액을 계산하고 제70조제4항제3호에 따른 서류를 제출하는 경우에는\\n해당 장부에 의하여 계산한 사업소득금액이 종합소득금액에서 차지하는 비율을 종합소득 산출세액에 곱하여 계산한\\n금액의 100분의 20에 해당하는 금액을 종합소득 산출세액에서 공제한다. 다만, 공제세액이 100만원을 초과하는 경\\n우에는 100만원을 공제한다.\\n② 다음 각 호의 어느 하나에 해당하는 경우에는 제1항에 따른 공제[이하 “기장세액공제”(記帳稅額控除)라 한다]를\\n적용하지 아니한다.\\n1. 비치ㆍ기록한 장부에 의하여 신고하여야 할 소득금액의 100분의 20 이상을 누락하여 신고한 경우\\n2. 기장세액공제와 관련된 장부 및 증명서류를 해당 과세표준확정신고기간 종료일부터 5년간 보관하지 아니한 경\\n우. 다만, 천재지변 등 대통령령으로 정하는 부득이한 사유에 해당하는 경우에는 그러하지 아니하다.\\n③ 기장세액공제에 관하여 필요한 사항은 대통령령으로 정한다.\\n[전문개정 2009. 12. 31.]\\n \\n제56조의3(전자계산서 발급 전송에 대한 세액공제) ① 총수입금액 등을 고려하여 대통령령으로 정하는 사업자가 제\\n163조제1항 후단에 따른 전자계산서를 2027년 12월 31일까지 발급(제163조제8항에 따라 전자계산서 발급명세를\\n국세청장에게 전송하는 경우로 한정한다)하는 경우에는 전자계산서 발급 건수 등을 고려하여 대통령령으로 정하는\\n금액을 해당 과세기간의 사업소득에 대한 종합소득산출세액에서 공제할 수 있다. 이 경우 공제한도는 연간 100만원\\n으로 한다. <개정 2021. 12. 8., 2024. 12. 31.>\\n② 제1항에 따른 세액공제를 적용받으려는 사업자는 제70조 또는 제74조에 따른 과세표준확정신고를 할 때 기획재\\n정부령으로 정하는 전자계산서 발급 세액공제신고서를 납세지 관할 세무서장에게 제출하여야 한다.\\n[본조신설 2014. 12. 23.]\\n \\n제57조(외국납부세액공제) ① 거주자의 종합소득금액 또는 퇴직소득금액에 국외원천소득이 합산되어 있는 경우로서\\n그 국외원천소득에 대하여 외국에서 대통령령으로 정하는 외국소득세액(이하 이 조에서 “외국소득세액”이라 한다)을\\n납부하였거나 납부할 것이 있을 때에는 다음 계산식에 따라 계산한 금액(이하 이 조에서 “공제한도금액”이라 한다)')"
      ]
     },
     "execution_count": 2,
     "metadata": {},
     "output_type": "execute_result"
    }
   ],
   "source": [
    "pages[35]"
   ]
  },
  {
   "cell_type": "markdown",
   "id": "74b6d29f",
   "metadata": {},
   "source": [
    "- Install the [py-zerox](https://www.piwheels.org/project/py-zerox/) package for data preprocessing"
   ]
  },
  {
   "cell_type": "code",
   "execution_count": 8,
   "id": "faeb2130",
   "metadata": {},
   "outputs": [
    {
     "name": "stdout",
     "output_type": "stream",
     "text": [
      "Note: you may need to restart the kernel to use updated packages.\n"
     ]
    }
   ],
   "source": [
    "%pip install -q py-zerox"
   ]
  },
  {
   "cell_type": "code",
   "execution_count": 5,
   "id": "5f20c7dc",
   "metadata": {},
   "outputs": [
    {
     "data": {
      "text/plain": [
       "True"
      ]
     },
     "execution_count": 5,
     "metadata": {},
     "output_type": "execute_result"
    }
   ],
   "source": [
    "from dotenv import load_dotenv\n",
    "\n",
    "load_dotenv()\n",
    "\n"
   ]
  },
  {
   "cell_type": "code",
   "execution_count": 9,
   "id": "49b46b0d",
   "metadata": {},
   "outputs": [
    {
     "name": "stdout",
     "output_type": "stream",
     "text": [
      "Note: you may need to restart the kernel to use updated packages.\n"
     ]
    }
   ],
   "source": [
    "%pip install -q nest_asyncio"
   ]
  },
  {
   "cell_type": "code",
   "execution_count": 12,
   "id": "5efac486",
   "metadata": {},
   "outputs": [],
   "source": [
    "import nest_asyncio\n",
    "nest_asyncio.apply()"
   ]
  },
  {
   "cell_type": "code",
   "execution_count": 15,
   "id": "85df6533",
   "metadata": {},
   "outputs": [
    {
     "name": "stdout",
     "output_type": "stream",
     "text": [
      "pdfinfo -> /opt/homebrew/bin/pdfinfo\n",
      "pdftoppm -> /opt/homebrew/bin/pdftoppm\n"
     ]
    }
   ],
   "source": [
    "import os, shutil\n",
    "\n",
    "# Jupyter 커널 PATH 보강\n",
    "os.environ[\"PATH\"] = \"/opt/homebrew/bin:/opt/homebrew/opt/poppler/bin:\" + os.environ[\"PATH\"]\n",
    "\n",
    "print(\"pdfinfo ->\", shutil.which(\"pdfinfo\"))\n",
    "print(\"pdftoppm ->\", shutil.which(\"pdftoppm\"))\n"
   ]
  },
  {
   "cell_type": "code",
   "execution_count": 17,
   "id": "719e3a79",
   "metadata": {},
   "outputs": [
    {
     "name": "stdout",
     "output_type": "stream",
     "text": [
      "ZeroxOutput(completion_time=15477.265, file_name='income_tax', input_tokens=36877, output_tokens=920, pages=[Page(content='# 소득세법\\n\\n[시행 2025. 1. 1.] [법률 제20615호, 2024. 12. 31., 일부개정]\\n기획재정부 (세정과, ☎044-215-4312)  \\n재정정책국 (소득세과, ☎044-215-4216)  \\n기획재정부 (금융세제과, ☎044-215-4233)  \\n기획재정부 (소득세제과(사안소득, 기타소득), ☎044-215-4217)  \\n\\n## 제1장 총칙\\n\\n### 제1조(목적) \\n이 법은 개인의 소득에 대하여 소득의 성격과 납세자의 부담능력 등에 따라 적정하게 과세함으로써 세부담의 형평을 도모하고 재정수입의 원활한 조달에 이바지함을 목적으로 한다.  \\n[본조신설 2009. 12. 31.]  \\n[종전 제1조는 제2조로 이동 <2009. 12. 31 .>]\\n\\n### 제2조(정의)\\n① 이 법에서 사용하는 용어의 뜻은 다음과 같다. <개정 2010. 12. 27., 2014. 12. 23., 2018. 12. 31.>  \\n1. “거주자”란 국내에 주소를 두거나 183일 이상 거소(居所)를 둔 개인을 말한다.  \\n2. “비거주자”란 거주자가 아닌 개인을 말한다.  \\n3. “국내법인”이란 법인세법 제2조제1호에 따른 내국법인을 말한다.  \\n4. “외국법인”이란 법인세법 제2조제3호에 따른 외국법인을 말한다.  \\n5. “사업자”란 사업소득이 있는 거주자를 말한다.  \\n6. 제1항에 따른 소득, 사업소득·비거주자의 구분은 대통령령으로 정한다.  \\n[본조신설 2009. 12. 31.]\\n\\n### 제2조(납세의무)\\n구분:  \\n1. 거주자  \\n2. 비거주자로서 국내원천소득(國內源泉所得)이 있는 개인  \\n③ 다음 각 호의 어느 하나에 해당하는 자는 이 법에 따라 각자의 소득에 대한 소득세를 납부할 의무를 진다.  \\n1. 거주자  \\n2. 비거주자  \\n3. 내국법인  \\n4. 외국법인인 국내지점 또는 국내영업소(출장소, 그 밖에 이에 준하는 것을 포함한다. 이하 같다)  \\n5. 그 밖에 법에 의해 정하는 원천징수의무자  \\n3. “국세기본법 제3조제1항에 따른 법인은 본 법 아닌 단체 같은 제정에 따른 법인으로 보는 단체”란 “법인은” 보는 단체를 포함한다)며 소득세에 대한 소득세법 및 법인세법에 따라 구분되는 구성원에 대한 각 구성원별로 이 법 또는 법인세법에 따라서 소득세 법인에 대한 납부의무를 진다. <개정 2010. 12. 27., 2013. 1. 1., 2018. 12. 31.>  \\n4. 구성원 각 이의 원래의 구성원별로 정하여야 하고 해당 구성원별 이의 본배비율을 확인하는 경우  \\n2. 구성원 각 이의 본배비율이 정하여 있지 아니하나 사실상 구성원별 이의 본배비율로 되어 있는 경우  \\n제3항에도 불구하고 해당 단체의 전체 구성원 중 이런 구성이 본배비율로 확인되게 하려면 다음 각 호의 내용에 따라 소득세 또는 법인세를 납부할 의무를 진다. <신설 2018. 12. 31.>  \\n\\n---\\n\\n**법제처**  \\n1  \\n국가법령정보센터', content_length=1429, page=1)])\n"
     ]
    }
   ],
   "source": [
    "from pyzerox import zerox\n",
    "import asyncio\n",
    "\n",
    "kwargs = {}\n",
    "custom_system_prompt = None\n",
    "\n",
    "model = \"gpt-4o-mini\" \n",
    "\n",
    "async def main():\n",
    "    file_path = \"./documents/income_tax.pdf\"\n",
    "    # select_pages = None ## 전체는 None, 특정 페이지는 int 또는 list(int) 페이지 번호 (1부터 시작)\n",
    "    select_pages = [1]\n",
    "\n",
    "    output_dir = \"./documents\"\n",
    "\n",
    "    result = await zerox(file_path=file_path, model=model, output_dir=output_dir,\n",
    "                        custom_system_prompt=custom_system_prompt, select_pages=select_pages, **kwargs)\n",
    "\n",
    "    return result\n",
    "\n",
    "result = asyncio.run(main())\n",
    "print(result)"
   ]
  },
  {
   "cell_type": "code",
   "execution_count": 18,
   "id": "31c44ebb",
   "metadata": {},
   "outputs": [
    {
     "name": "stdout",
     "output_type": "stream",
     "text": [
      "\u001b[31mERROR: pip's dependency resolver does not currently take into account all the packages that are installed. This behaviour is the source of the following dependency conflicts.\n",
      "langchain-community 0.3.27 requires numpy>=2.1.0; python_version >= \"3.13\", but you have numpy 1.26.4 which is incompatible.\u001b[0m\u001b[31m\n",
      "\u001b[0mNote: you may need to restart the kernel to use updated packages.\n"
     ]
    }
   ],
   "source": [
    "# https://github.com/Unstructured-IO: 다양한 문서 파일(PDF, Word, PowerPoint, HTML, 이미지, 이메일 등등)을 텍스트/문단 단위로 쪼개서 추출해주는 오픈소스 라이브러리\n",
    "# unstructured[md]: document parser, [md] → “extra dependency\n",
    "# nltk: Natural Language Toolkit (The oldest and most traditional natural language processing (NLP) library in Python)\n",
    "\n",
    "%pip install -q \"unstructured[md]\" nltk"
   ]
  },
  {
   "cell_type": "markdown",
   "id": "4da4a13f",
   "metadata": {},
   "source": [
    "여기까지 일단 preprocessing 해둠.\n",
    "\n",
    "Poppler → PDF를 이미지·텍스트 블록 단위로 해체  \n",
    "pyzerox → 그 텍스트를 LLM(GPT-4o/mini)에 태워서 마크다운 구조화 텍스트로 변환  \n",
    "unstructured나 nltk 같은 라이브러리로 더 잘게 쪼개서 토큰화/분석 준비"
   ]
  }
 ],
 "metadata": {
  "kernelspec": {
   "display_name": ".venv",
   "language": "python",
   "name": "python3"
  },
  "language_info": {
   "codemirror_mode": {
    "name": "ipython",
    "version": 3
   },
   "file_extension": ".py",
   "mimetype": "text/x-python",
   "name": "python",
   "nbconvert_exporter": "python",
   "pygments_lexer": "ipython3",
   "version": "3.13.2"
  }
 },
 "nbformat": 4,
 "nbformat_minor": 5
}
